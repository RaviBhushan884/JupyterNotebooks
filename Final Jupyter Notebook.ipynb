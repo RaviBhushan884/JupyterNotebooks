{
 "cells": [
  {
   "cell_type": "code",
   "execution_count": 1,
   "metadata": {},
   "outputs": [],
   "source": [
    "import pandas as pd\n",
    "import seaborn as sns\n",
    "import numpy as np\n",
    "import matplotlib.pyplot as plt"
   ]
  },
  {
   "cell_type": "code",
   "execution_count": 3,
   "metadata": {},
   "outputs": [],
   "source": [
    "df1 = pd.read_csv('Stripe Data Lawpath- GA.csv')\n",
    "df2 = pd.read_csv('Chargify Data Lawpath- GA (1).csv')"
   ]
  },
  {
   "cell_type": "code",
   "execution_count": 4,
   "metadata": {},
   "outputs": [
    {
     "data": {
      "text/html": [
       "<div>\n",
       "<style scoped>\n",
       "    .dataframe tbody tr th:only-of-type {\n",
       "        vertical-align: middle;\n",
       "    }\n",
       "\n",
       "    .dataframe tbody tr th {\n",
       "        vertical-align: top;\n",
       "    }\n",
       "\n",
       "    .dataframe thead th {\n",
       "        text-align: right;\n",
       "    }\n",
       "</style>\n",
       "<table border=\"1\" class=\"dataframe\">\n",
       "  <thead>\n",
       "    <tr style=\"text-align: right;\">\n",
       "      <th></th>\n",
       "      <th>Purchase Description</th>\n",
       "      <th>id</th>\n",
       "      <th>Created (UTC)</th>\n",
       "      <th>amount</th>\n",
       "      <th>Amount Refunded</th>\n",
       "      <th>Currency</th>\n",
       "      <th>Converted Amount</th>\n",
       "      <th>Converted Amount Refunded</th>\n",
       "      <th>Fee</th>\n",
       "      <th>Tax</th>\n",
       "      <th>Converted Currency</th>\n",
       "      <th>Status</th>\n",
       "      <th>Customer ID</th>\n",
       "      <th>Chargify Customer ID</th>\n",
       "    </tr>\n",
       "  </thead>\n",
       "  <tbody>\n",
       "    <tr>\n",
       "      <th>0</th>\n",
       "      <td>Other</td>\n",
       "      <td>ch_103Yj32lFvsl0OXK0bNpvk6w</td>\n",
       "      <td>25/02/2014 3:10</td>\n",
       "      <td>89.0</td>\n",
       "      <td>0</td>\n",
       "      <td>aud</td>\n",
       "      <td>89.0</td>\n",
       "      <td>0</td>\n",
       "      <td>2.45</td>\n",
       "      <td>0.25</td>\n",
       "      <td>aud</td>\n",
       "      <td>Paid</td>\n",
       "      <td>cus_3Yj3561p02vmNN</td>\n",
       "      <td>NaN</td>\n",
       "    </tr>\n",
       "  </tbody>\n",
       "</table>\n",
       "</div>"
      ],
      "text/plain": [
       "  Purchase Description                           id    Created (UTC)  amount  \\\n",
       "0                Other  ch_103Yj32lFvsl0OXK0bNpvk6w  25/02/2014 3:10    89.0   \n",
       "\n",
       "   Amount Refunded Currency  Converted Amount  Converted Amount Refunded  \\\n",
       "0                0      aud              89.0                          0   \n",
       "\n",
       "    Fee   Tax Converted Currency Status         Customer ID  \\\n",
       "0  2.45  0.25                aud   Paid  cus_3Yj3561p02vmNN   \n",
       "\n",
       "   Chargify Customer ID  \n",
       "0                   NaN  "
      ]
     },
     "execution_count": 4,
     "metadata": {},
     "output_type": "execute_result"
    }
   ],
   "source": [
    "#Exploring and understanding the STRIPE dataset\n",
    "\n",
    "df1.head(1)"
   ]
  },
  {
   "cell_type": "code",
   "execution_count": 5,
   "metadata": {},
   "outputs": [
    {
     "data": {
      "text/plain": [
       "(48422, 14)"
      ]
     },
     "execution_count": 5,
     "metadata": {},
     "output_type": "execute_result"
    }
   ],
   "source": [
    "df1.shape"
   ]
  },
  {
   "cell_type": "code",
   "execution_count": 6,
   "metadata": {},
   "outputs": [
    {
     "data": {
      "text/plain": [
       "Index(['Purchase Description', 'id', 'Created (UTC)', 'amount',\n",
       "       'Amount Refunded', 'Currency', 'Converted Amount',\n",
       "       'Converted Amount Refunded', 'Fee', 'Tax', 'Converted Currency',\n",
       "       'Status', 'Customer ID', 'Chargify Customer ID'],\n",
       "      dtype='object')"
      ]
     },
     "execution_count": 6,
     "metadata": {},
     "output_type": "execute_result"
    }
   ],
   "source": [
    "df1.columns"
   ]
  },
  {
   "cell_type": "code",
   "execution_count": 7,
   "metadata": {},
   "outputs": [
    {
     "data": {
      "text/plain": [
       "array([0], dtype=int64)"
      ]
     },
     "execution_count": 7,
     "metadata": {},
     "output_type": "execute_result"
    }
   ],
   "source": [
    "df1['Amount Refunded'].unique()"
   ]
  },
  {
   "cell_type": "code",
   "execution_count": 8,
   "metadata": {},
   "outputs": [
    {
     "data": {
      "text/plain": [
       "array(['aud'], dtype=object)"
      ]
     },
     "execution_count": 8,
     "metadata": {},
     "output_type": "execute_result"
    }
   ],
   "source": [
    "df1['Currency'].unique()"
   ]
  },
  {
   "cell_type": "code",
   "execution_count": 9,
   "metadata": {},
   "outputs": [
    {
     "data": {
      "text/plain": [
       "array([0], dtype=int64)"
      ]
     },
     "execution_count": 9,
     "metadata": {},
     "output_type": "execute_result"
    }
   ],
   "source": [
    "df1['Converted Amount Refunded'].unique()"
   ]
  },
  {
   "cell_type": "code",
   "execution_count": 10,
   "metadata": {},
   "outputs": [],
   "source": [
    "#I chose to drop the 'Amount Refunded', 'Currency','Converted Amount Refunded','Converted Amount','Converted Currency' \n",
    "#columns as they did not pertain to my analysis or had insufficient values to be useful. I am also dropping the 'Fee' and\n",
    "#'Tax' columns as they refer to the stripe fees and taxes, which is the same percentage of every transaction."
   ]
  },
  {
   "cell_type": "code",
   "execution_count": 11,
   "metadata": {},
   "outputs": [],
   "source": [
    "df1.drop(columns=['Amount Refunded','Currency','Converted Amount Refunded','Converted Currency','Converted Amount', 'Fee', 'Tax'], inplace=True)"
   ]
  },
  {
   "cell_type": "code",
   "execution_count": 12,
   "metadata": {},
   "outputs": [
    {
     "data": {
      "text/html": [
       "<div>\n",
       "<style scoped>\n",
       "    .dataframe tbody tr th:only-of-type {\n",
       "        vertical-align: middle;\n",
       "    }\n",
       "\n",
       "    .dataframe tbody tr th {\n",
       "        vertical-align: top;\n",
       "    }\n",
       "\n",
       "    .dataframe thead th {\n",
       "        text-align: right;\n",
       "    }\n",
       "</style>\n",
       "<table border=\"1\" class=\"dataframe\">\n",
       "  <thead>\n",
       "    <tr style=\"text-align: right;\">\n",
       "      <th></th>\n",
       "      <th>Purchase Description</th>\n",
       "      <th>id</th>\n",
       "      <th>Created (UTC)</th>\n",
       "      <th>amount</th>\n",
       "      <th>Status</th>\n",
       "      <th>Customer ID</th>\n",
       "      <th>Chargify Customer ID</th>\n",
       "    </tr>\n",
       "  </thead>\n",
       "  <tbody>\n",
       "    <tr>\n",
       "      <th>0</th>\n",
       "      <td>Other</td>\n",
       "      <td>ch_103Yj32lFvsl0OXK0bNpvk6w</td>\n",
       "      <td>25/02/2014 3:10</td>\n",
       "      <td>89.0</td>\n",
       "      <td>Paid</td>\n",
       "      <td>cus_3Yj3561p02vmNN</td>\n",
       "      <td>NaN</td>\n",
       "    </tr>\n",
       "  </tbody>\n",
       "</table>\n",
       "</div>"
      ],
      "text/plain": [
       "  Purchase Description                           id    Created (UTC)  amount  \\\n",
       "0                Other  ch_103Yj32lFvsl0OXK0bNpvk6w  25/02/2014 3:10    89.0   \n",
       "\n",
       "  Status         Customer ID  Chargify Customer ID  \n",
       "0   Paid  cus_3Yj3561p02vmNN                   NaN  "
      ]
     },
     "execution_count": 12,
     "metadata": {},
     "output_type": "execute_result"
    }
   ],
   "source": [
    "df1.head(1)"
   ]
  },
  {
   "cell_type": "code",
   "execution_count": 13,
   "metadata": {},
   "outputs": [
    {
     "data": {
      "text/plain": [
       "array(['Other', '6 month beta-Renewal', 'Basic Plan-Signup',\n",
       "       'Company Starter Plan', 'Basic Plan-Renewal',\n",
       "       'Essentials Plan (Promo)-Signup',\n",
       "       'Essentials Plan (Promo)-Renewal', 'Essential-Signup',\n",
       "       'Marketplace', 'ACN-External Starter', 'Essential-Renewal',\n",
       "       'BEC Special-Signup', 'ACN Half Yearly-Renewal',\n",
       "       'ACN-External Basic', 'ACN Annual Plan-Renewal',\n",
       "       'ACN Half Yearly-Signup',\n",
       "       'Australian Business Number charge for Individual: 1 pcs',\n",
       "       'Paying Platform Lawyer: Signup',\n",
       "       'Paying Platform Lawyer: Renewal', 'BEC Special-Renewal',\n",
       "       '6 month beta-Signup', 'Company Changes',\n",
       "       'Legal Advice Plan (Promo)-Signup', 'ACN-External Standard',\n",
       "       'ACN-External Full Protection', 'Company Legal Advice Plan',\n",
       "       'Company Essentials Plan', 'VO-Renewal',\n",
       "       'Company Starter Plan+Virtual Office', 'VO-Signup',\n",
       "       'Company Essentials Plan+Virtual Office',\n",
       "       'Virtual Office-Mail Forwarding', 'ACN-Internal Standard',\n",
       "       'ACN-Internal Basic', 'Virtual Office-Signup', 'Company Renewal',\n",
       "       'Essentials Plan-Upgrade', 'Legal Advice Plan-Upgrade',\n",
       "       'Legal Advice Plan-Signup', 'Virtual Office-Renewal',\n",
       "       'Legal Advice Plan (Promo)-Renewal',\n",
       "       'Essentials Plan (Promo)+Virtual Office-Renewal',\n",
       "       'Company Legal Advice Plan+Virtual Office',\n",
       "       'Australian Business Name charge for Individual: 1 pcs',\n",
       "       'Essentials Plan-Signup',\n",
       "       'Essentials Plan (Promo)+Virtual Office-Signup',\n",
       "       'Legal Advice Plan-Renewal'], dtype=object)"
      ]
     },
     "execution_count": 13,
     "metadata": {},
     "output_type": "execute_result"
    }
   ],
   "source": [
    "#Next step was to clean the Purchase Description and simplify the values in this column.\n",
    "df1['Purchase Description'].unique()"
   ]
  },
  {
   "cell_type": "code",
   "execution_count": 14,
   "metadata": {},
   "outputs": [
    {
     "data": {
      "text/plain": [
       "array(['Other', 'Basic Plan', 'Company Starter Plan', 'Essentials Plan',\n",
       "       'Marketplace', 'ACN', 'BEC', 'ABN', 'Paying Platform Lawyer',\n",
       "       'Legal Advice Plan', 'Virtual Office'], dtype=object)"
      ]
     },
     "execution_count": 14,
     "metadata": {},
     "output_type": "execute_result"
    }
   ],
   "source": [
    "df1['Purchase Description'].replace({'Basic Plan-Signup':'Basic Plan',\n",
    "                                    'Essentials Plan (Promo)-Signup':'Essentials Plan',\n",
    "                                    'Essentials Plan (Promo)-Renewal': 'Essentials Plan',\n",
    "                                    'Essential-Signup':'Essentials Plan',\n",
    "                                    'Basic Plan-Renewal':'Basic Plan',\n",
    "                                    'Essential-Renewal':'Essentials Plan',\n",
    "                                    'Company Essentials Plan':'Essentials Plan',\n",
    "                                    'Company Essentials Plan+Virtual Office':'Essentials Plan',\n",
    "                                    'Essentials Plan-Upgrade':'Essentials Plan',\n",
    "                                    'Essentials Plan (Promo)+Virtual Office-Renewal':'Essentials Plan',\n",
    "                                    'Essentials Plan-Signup':'Essentials Plan',\n",
    "                                    'Essentials Plan (Promo)+Virtual Office-Signup':'Essentials Plan',\n",
    "                                    'ACN-External Starter':'ACN',\n",
    "                                    'ACN-External Basic':'ACN',\n",
    "                                    'ACN Annual Plan-Renewal':'ACN',\n",
    "                                    'ACN Half Yearly-Signup':'ACN',\n",
    "                                    'ACN-External Standard': 'ACN',\n",
    "                                    'ACN-External Full Protection':'ACN',\n",
    "                                    'ACN-Internal Standard':'ACN',\n",
    "                                    'ACN-Internal Basic':'ACN',\n",
    "                                    'ACN Half Yearly-Renewal':'ACN',\n",
    "                                    'Paying Platform Lawyer: Signup':'Paying Platform Lawyer',\n",
    "                                    'Paying Platform Lawyer: Renewal':'Paying Platform Lawyer',\n",
    "                                    'Legal Advice Plan (Promo)-Signup':'Legal Advice Plan',\n",
    "                                    'Company Legal Advice Plan':'Legal Advice Plan',\n",
    "                                    'Legal Advice Plan-Upgrade':'Legal Advice Plan',\n",
    "                                    'Legal Advice Plan-Signup':'Legal Advice Plan',\n",
    "                                    'Legal Advice Plan (Promo)-Renewal':'Legal Advice Plan',\n",
    "                                    'Company Legal Advice Plan+Virtual Office':'Legal Advice Plan',\n",
    "                                    'Legal Advice Plan-Renewal':'Legal Advice Plan',\n",
    "                                    'BEC Special-Renewal':'BEC',\n",
    "                                    'BEC Special-Signup':'BEC',\n",
    "                                    'VO-Renewal':'Virtual Office',\n",
    "                                    'Company Starter Plan+Virtual Office':'Virtual Office',\n",
    "                                    'VO-Signup':'Virtual Office',\n",
    "                                    'Virtual Office-Mail Forwarding':'Virtual Office',\n",
    "                                    'Virtual Office-Signup':'Virtual Office',\n",
    "                                    'Virtual Office-Renewal':'Virtual Office',\n",
    "                                    'Australian Business Number charge for Individual: 1 pcs':'ABN',\n",
    "                                    'Australian Business Name charge for Individual: 1 pcs':'ABN',\n",
    "                                    '6 month beta-Renewal':'Other',\n",
    "                                    '6 month beta-Signup':'Other',\n",
    "                                    'Company Changes':'ACN',\n",
    "                                    'Company Renewal':'ACN'}, inplace=True)\n",
    "df1['Purchase Description'].unique()"
   ]
  },
  {
   "cell_type": "code",
   "execution_count": 15,
   "metadata": {},
   "outputs": [],
   "source": [
    "#Converting it to csv form:\n",
    "df1.to_csv('FINAL STRIPE.csv')"
   ]
  },
  {
   "cell_type": "code",
   "execution_count": 16,
   "metadata": {},
   "outputs": [
    {
     "data": {
      "text/html": [
       "<div>\n",
       "<style scoped>\n",
       "    .dataframe tbody tr th:only-of-type {\n",
       "        vertical-align: middle;\n",
       "    }\n",
       "\n",
       "    .dataframe tbody tr th {\n",
       "        vertical-align: top;\n",
       "    }\n",
       "\n",
       "    .dataframe thead th {\n",
       "        text-align: right;\n",
       "    }\n",
       "</style>\n",
       "<table border=\"1\" class=\"dataframe\">\n",
       "  <thead>\n",
       "    <tr style=\"text-align: right;\">\n",
       "      <th></th>\n",
       "      <th>id</th>\n",
       "      <th>customer_id</th>\n",
       "      <th>product_id</th>\n",
       "      <th>next_product_id</th>\n",
       "      <th>recurring_price</th>\n",
       "      <th>recurring_interval</th>\n",
       "      <th>created_at_day</th>\n",
       "      <th>created_at_month</th>\n",
       "      <th>created_at_year</th>\n",
       "      <th>canceled_at_day</th>\n",
       "      <th>canceled_at_month</th>\n",
       "      <th>canceled_at_year</th>\n",
       "      <th>balance_in_cents</th>\n",
       "      <th>balance</th>\n",
       "      <th>revenue_in_cents</th>\n",
       "      <th>revenue</th>\n",
       "      <th>product_version_number</th>\n",
       "      <th>referral_code</th>\n",
       "      <th>product_price_point_id</th>\n",
       "    </tr>\n",
       "  </thead>\n",
       "  <tbody>\n",
       "    <tr>\n",
       "      <th>count</th>\n",
       "      <td>2.115980e+05</td>\n",
       "      <td>2.115980e+05</td>\n",
       "      <td>2.115980e+05</td>\n",
       "      <td>1.360000e+02</td>\n",
       "      <td>211598.000000</td>\n",
       "      <td>211598.000000</td>\n",
       "      <td>211598.000000</td>\n",
       "      <td>211598.000000</td>\n",
       "      <td>211598.000000</td>\n",
       "      <td>6876.000000</td>\n",
       "      <td>6876.000000</td>\n",
       "      <td>6876.000000</td>\n",
       "      <td>211598.000000</td>\n",
       "      <td>211598.000000</td>\n",
       "      <td>211598.000000</td>\n",
       "      <td>211598.000000</td>\n",
       "      <td>0.0</td>\n",
       "      <td>0.0</td>\n",
       "      <td>2.115980e+05</td>\n",
       "    </tr>\n",
       "    <tr>\n",
       "      <th>mean</th>\n",
       "      <td>2.791722e+07</td>\n",
       "      <td>2.805433e+07</td>\n",
       "      <td>3.777904e+06</td>\n",
       "      <td>5.041808e+06</td>\n",
       "      <td>16.137842</td>\n",
       "      <td>19.359474</td>\n",
       "      <td>15.778164</td>\n",
       "      <td>6.548266</td>\n",
       "      <td>2018.829682</td>\n",
       "      <td>16.053083</td>\n",
       "      <td>6.790867</td>\n",
       "      <td>2018.936446</td>\n",
       "      <td>505.343623</td>\n",
       "      <td>5.053436</td>\n",
       "      <td>2292.808235</td>\n",
       "      <td>22.928082</td>\n",
       "      <td>NaN</td>\n",
       "      <td>NaN</td>\n",
       "      <td>2.004407e+05</td>\n",
       "    </tr>\n",
       "    <tr>\n",
       "      <th>std</th>\n",
       "      <td>8.274157e+06</td>\n",
       "      <td>8.883960e+06</td>\n",
       "      <td>2.514353e+05</td>\n",
       "      <td>4.553721e+05</td>\n",
       "      <td>75.196551</td>\n",
       "      <td>8.694737</td>\n",
       "      <td>8.720411</td>\n",
       "      <td>3.494414</td>\n",
       "      <td>1.557824</td>\n",
       "      <td>8.620800</td>\n",
       "      <td>3.461272</td>\n",
       "      <td>1.591579</td>\n",
       "      <td>8741.348524</td>\n",
       "      <td>87.413485</td>\n",
       "      <td>12896.710822</td>\n",
       "      <td>128.967108</td>\n",
       "      <td>NaN</td>\n",
       "      <td>NaN</td>\n",
       "      <td>1.450535e+05</td>\n",
       "    </tr>\n",
       "    <tr>\n",
       "      <th>min</th>\n",
       "      <td>7.648758e+06</td>\n",
       "      <td>7.503912e+06</td>\n",
       "      <td>3.637277e+06</td>\n",
       "      <td>3.637278e+06</td>\n",
       "      <td>0.000000</td>\n",
       "      <td>1.000000</td>\n",
       "      <td>1.000000</td>\n",
       "      <td>1.000000</td>\n",
       "      <td>2015.000000</td>\n",
       "      <td>1.000000</td>\n",
       "      <td>1.000000</td>\n",
       "      <td>2015.000000</td>\n",
       "      <td>-28799.000000</td>\n",
       "      <td>-287.990000</td>\n",
       "      <td>0.000000</td>\n",
       "      <td>0.000000</td>\n",
       "      <td>NaN</td>\n",
       "      <td>NaN</td>\n",
       "      <td>1.282330e+05</td>\n",
       "    </tr>\n",
       "    <tr>\n",
       "      <th>25%</th>\n",
       "      <td>2.205031e+07</td>\n",
       "      <td>2.132963e+07</td>\n",
       "      <td>3.721588e+06</td>\n",
       "      <td>5.244731e+06</td>\n",
       "      <td>0.000000</td>\n",
       "      <td>24.000000</td>\n",
       "      <td>8.000000</td>\n",
       "      <td>3.000000</td>\n",
       "      <td>2018.000000</td>\n",
       "      <td>9.000000</td>\n",
       "      <td>4.000000</td>\n",
       "      <td>2018.000000</td>\n",
       "      <td>0.000000</td>\n",
       "      <td>0.000000</td>\n",
       "      <td>0.000000</td>\n",
       "      <td>0.000000</td>\n",
       "      <td>NaN</td>\n",
       "      <td>NaN</td>\n",
       "      <td>1.649920e+05</td>\n",
       "    </tr>\n",
       "    <tr>\n",
       "      <th>50%</th>\n",
       "      <td>2.937262e+07</td>\n",
       "      <td>3.000074e+07</td>\n",
       "      <td>3.721588e+06</td>\n",
       "      <td>5.252370e+06</td>\n",
       "      <td>0.000000</td>\n",
       "      <td>24.000000</td>\n",
       "      <td>16.000000</td>\n",
       "      <td>7.000000</td>\n",
       "      <td>2019.000000</td>\n",
       "      <td>16.000000</td>\n",
       "      <td>7.000000</td>\n",
       "      <td>2019.000000</td>\n",
       "      <td>0.000000</td>\n",
       "      <td>0.000000</td>\n",
       "      <td>0.000000</td>\n",
       "      <td>0.000000</td>\n",
       "      <td>NaN</td>\n",
       "      <td>NaN</td>\n",
       "      <td>1.649920e+05</td>\n",
       "    </tr>\n",
       "    <tr>\n",
       "      <th>75%</th>\n",
       "      <td>3.492009e+07</td>\n",
       "      <td>3.579029e+07</td>\n",
       "      <td>3.721588e+06</td>\n",
       "      <td>5.252370e+06</td>\n",
       "      <td>0.000000</td>\n",
       "      <td>24.000000</td>\n",
       "      <td>23.000000</td>\n",
       "      <td>10.000000</td>\n",
       "      <td>2020.000000</td>\n",
       "      <td>23.000000</td>\n",
       "      <td>10.000000</td>\n",
       "      <td>2020.000000</td>\n",
       "      <td>0.000000</td>\n",
       "      <td>0.000000</td>\n",
       "      <td>0.000000</td>\n",
       "      <td>0.000000</td>\n",
       "      <td>NaN</td>\n",
       "      <td>NaN</td>\n",
       "      <td>1.649920e+05</td>\n",
       "    </tr>\n",
       "    <tr>\n",
       "      <th>max</th>\n",
       "      <td>3.994458e+07</td>\n",
       "      <td>4.093600e+07</td>\n",
       "      <td>5.449729e+06</td>\n",
       "      <td>5.252370e+06</td>\n",
       "      <td>828.000000</td>\n",
       "      <td>48.000000</td>\n",
       "      <td>31.000000</td>\n",
       "      <td>12.000000</td>\n",
       "      <td>2021.000000</td>\n",
       "      <td>31.000000</td>\n",
       "      <td>12.000000</td>\n",
       "      <td>2021.000000</td>\n",
       "      <td>338100.000000</td>\n",
       "      <td>3381.000000</td>\n",
       "      <td>656700.000000</td>\n",
       "      <td>6567.000000</td>\n",
       "      <td>NaN</td>\n",
       "      <td>NaN</td>\n",
       "      <td>1.181981e+06</td>\n",
       "    </tr>\n",
       "  </tbody>\n",
       "</table>\n",
       "</div>"
      ],
      "text/plain": [
       "                 id   customer_id    product_id  next_product_id  \\\n",
       "count  2.115980e+05  2.115980e+05  2.115980e+05     1.360000e+02   \n",
       "mean   2.791722e+07  2.805433e+07  3.777904e+06     5.041808e+06   \n",
       "std    8.274157e+06  8.883960e+06  2.514353e+05     4.553721e+05   \n",
       "min    7.648758e+06  7.503912e+06  3.637277e+06     3.637278e+06   \n",
       "25%    2.205031e+07  2.132963e+07  3.721588e+06     5.244731e+06   \n",
       "50%    2.937262e+07  3.000074e+07  3.721588e+06     5.252370e+06   \n",
       "75%    3.492009e+07  3.579029e+07  3.721588e+06     5.252370e+06   \n",
       "max    3.994458e+07  4.093600e+07  5.449729e+06     5.252370e+06   \n",
       "\n",
       "       recurring_price  recurring_interval  created_at_day  created_at_month  \\\n",
       "count    211598.000000       211598.000000   211598.000000     211598.000000   \n",
       "mean         16.137842           19.359474       15.778164          6.548266   \n",
       "std          75.196551            8.694737        8.720411          3.494414   \n",
       "min           0.000000            1.000000        1.000000          1.000000   \n",
       "25%           0.000000           24.000000        8.000000          3.000000   \n",
       "50%           0.000000           24.000000       16.000000          7.000000   \n",
       "75%           0.000000           24.000000       23.000000         10.000000   \n",
       "max         828.000000           48.000000       31.000000         12.000000   \n",
       "\n",
       "       created_at_year  canceled_at_day  canceled_at_month  canceled_at_year  \\\n",
       "count    211598.000000      6876.000000        6876.000000       6876.000000   \n",
       "mean       2018.829682        16.053083           6.790867       2018.936446   \n",
       "std           1.557824         8.620800           3.461272          1.591579   \n",
       "min        2015.000000         1.000000           1.000000       2015.000000   \n",
       "25%        2018.000000         9.000000           4.000000       2018.000000   \n",
       "50%        2019.000000        16.000000           7.000000       2019.000000   \n",
       "75%        2020.000000        23.000000          10.000000       2020.000000   \n",
       "max        2021.000000        31.000000          12.000000       2021.000000   \n",
       "\n",
       "       balance_in_cents        balance  revenue_in_cents        revenue  \\\n",
       "count     211598.000000  211598.000000     211598.000000  211598.000000   \n",
       "mean         505.343623       5.053436       2292.808235      22.928082   \n",
       "std         8741.348524      87.413485      12896.710822     128.967108   \n",
       "min       -28799.000000    -287.990000          0.000000       0.000000   \n",
       "25%            0.000000       0.000000          0.000000       0.000000   \n",
       "50%            0.000000       0.000000          0.000000       0.000000   \n",
       "75%            0.000000       0.000000          0.000000       0.000000   \n",
       "max       338100.000000    3381.000000     656700.000000    6567.000000   \n",
       "\n",
       "       product_version_number  referral_code  product_price_point_id  \n",
       "count                     0.0            0.0            2.115980e+05  \n",
       "mean                      NaN            NaN            2.004407e+05  \n",
       "std                       NaN            NaN            1.450535e+05  \n",
       "min                       NaN            NaN            1.282330e+05  \n",
       "25%                       NaN            NaN            1.649920e+05  \n",
       "50%                       NaN            NaN            1.649920e+05  \n",
       "75%                       NaN            NaN            1.649920e+05  \n",
       "max                       NaN            NaN            1.181981e+06  "
      ]
     },
     "execution_count": 16,
     "metadata": {},
     "output_type": "execute_result"
    }
   ],
   "source": [
    "#Describe and explore the Chargiry Dataset\n",
    "df2.describe()"
   ]
  },
  {
   "cell_type": "code",
   "execution_count": 17,
   "metadata": {},
   "outputs": [],
   "source": [
    "#I added another column called 'period' to the Chargify data in excel, which concatenated 'recurring interval' and \n",
    "#'recurring_interval_unit'. "
   ]
  },
  {
   "cell_type": "code",
   "execution_count": 21,
   "metadata": {},
   "outputs": [],
   "source": [
    "df2 = pd.read_csv('Chargify Data Lawpath- GA (1) - Copy.csv')"
   ]
  },
  {
   "cell_type": "code",
   "execution_count": 22,
   "metadata": {},
   "outputs": [
    {
     "data": {
      "text/html": [
       "<div>\n",
       "<style scoped>\n",
       "    .dataframe tbody tr th:only-of-type {\n",
       "        vertical-align: middle;\n",
       "    }\n",
       "\n",
       "    .dataframe tbody tr th {\n",
       "        vertical-align: top;\n",
       "    }\n",
       "\n",
       "    .dataframe thead th {\n",
       "        text-align: right;\n",
       "    }\n",
       "</style>\n",
       "<table border=\"1\" class=\"dataframe\">\n",
       "  <thead>\n",
       "    <tr style=\"text-align: right;\">\n",
       "      <th></th>\n",
       "      <th>id</th>\n",
       "      <th>customer_id</th>\n",
       "      <th>product_id</th>\n",
       "      <th>next_product_id</th>\n",
       "      <th>recurring_price</th>\n",
       "      <th>recurring_interval</th>\n",
       "      <th>created_at_day</th>\n",
       "      <th>created_at_month</th>\n",
       "      <th>created_at_year</th>\n",
       "      <th>canceled_at_day</th>\n",
       "      <th>canceled_at_month</th>\n",
       "      <th>canceled_at_year</th>\n",
       "      <th>balance_in_cents</th>\n",
       "      <th>balance</th>\n",
       "      <th>revenue_in_cents</th>\n",
       "      <th>revenue</th>\n",
       "      <th>product_version_number</th>\n",
       "      <th>referral_code</th>\n",
       "      <th>product_price_point_id</th>\n",
       "    </tr>\n",
       "  </thead>\n",
       "  <tbody>\n",
       "    <tr>\n",
       "      <th>count</th>\n",
       "      <td>2.115980e+05</td>\n",
       "      <td>2.115980e+05</td>\n",
       "      <td>2.115980e+05</td>\n",
       "      <td>1.360000e+02</td>\n",
       "      <td>211598.000000</td>\n",
       "      <td>211598.000000</td>\n",
       "      <td>211598.000000</td>\n",
       "      <td>211598.000000</td>\n",
       "      <td>211598.000000</td>\n",
       "      <td>6876.000000</td>\n",
       "      <td>6876.000000</td>\n",
       "      <td>6876.000000</td>\n",
       "      <td>211598.000000</td>\n",
       "      <td>211598.000000</td>\n",
       "      <td>211598.000000</td>\n",
       "      <td>211598.000000</td>\n",
       "      <td>0.0</td>\n",
       "      <td>0.0</td>\n",
       "      <td>2.115980e+05</td>\n",
       "    </tr>\n",
       "    <tr>\n",
       "      <th>mean</th>\n",
       "      <td>2.791722e+07</td>\n",
       "      <td>2.805433e+07</td>\n",
       "      <td>3.777904e+06</td>\n",
       "      <td>5.041808e+06</td>\n",
       "      <td>16.137842</td>\n",
       "      <td>19.359474</td>\n",
       "      <td>15.778164</td>\n",
       "      <td>6.548266</td>\n",
       "      <td>2018.829682</td>\n",
       "      <td>16.053083</td>\n",
       "      <td>6.790867</td>\n",
       "      <td>2018.936446</td>\n",
       "      <td>505.343623</td>\n",
       "      <td>5.053436</td>\n",
       "      <td>2292.808235</td>\n",
       "      <td>22.928082</td>\n",
       "      <td>NaN</td>\n",
       "      <td>NaN</td>\n",
       "      <td>2.004407e+05</td>\n",
       "    </tr>\n",
       "    <tr>\n",
       "      <th>std</th>\n",
       "      <td>8.274157e+06</td>\n",
       "      <td>8.883960e+06</td>\n",
       "      <td>2.514353e+05</td>\n",
       "      <td>4.553721e+05</td>\n",
       "      <td>75.196551</td>\n",
       "      <td>8.694737</td>\n",
       "      <td>8.720411</td>\n",
       "      <td>3.494414</td>\n",
       "      <td>1.557824</td>\n",
       "      <td>8.620800</td>\n",
       "      <td>3.461272</td>\n",
       "      <td>1.591579</td>\n",
       "      <td>8741.348524</td>\n",
       "      <td>87.413485</td>\n",
       "      <td>12896.710822</td>\n",
       "      <td>128.967108</td>\n",
       "      <td>NaN</td>\n",
       "      <td>NaN</td>\n",
       "      <td>1.450535e+05</td>\n",
       "    </tr>\n",
       "    <tr>\n",
       "      <th>min</th>\n",
       "      <td>7.648758e+06</td>\n",
       "      <td>7.503912e+06</td>\n",
       "      <td>3.637277e+06</td>\n",
       "      <td>3.637278e+06</td>\n",
       "      <td>0.000000</td>\n",
       "      <td>1.000000</td>\n",
       "      <td>1.000000</td>\n",
       "      <td>1.000000</td>\n",
       "      <td>2015.000000</td>\n",
       "      <td>1.000000</td>\n",
       "      <td>1.000000</td>\n",
       "      <td>2015.000000</td>\n",
       "      <td>-28799.000000</td>\n",
       "      <td>-287.990000</td>\n",
       "      <td>0.000000</td>\n",
       "      <td>0.000000</td>\n",
       "      <td>NaN</td>\n",
       "      <td>NaN</td>\n",
       "      <td>1.282330e+05</td>\n",
       "    </tr>\n",
       "    <tr>\n",
       "      <th>25%</th>\n",
       "      <td>2.205031e+07</td>\n",
       "      <td>2.132963e+07</td>\n",
       "      <td>3.721588e+06</td>\n",
       "      <td>5.244731e+06</td>\n",
       "      <td>0.000000</td>\n",
       "      <td>24.000000</td>\n",
       "      <td>8.000000</td>\n",
       "      <td>3.000000</td>\n",
       "      <td>2018.000000</td>\n",
       "      <td>9.000000</td>\n",
       "      <td>4.000000</td>\n",
       "      <td>2018.000000</td>\n",
       "      <td>0.000000</td>\n",
       "      <td>0.000000</td>\n",
       "      <td>0.000000</td>\n",
       "      <td>0.000000</td>\n",
       "      <td>NaN</td>\n",
       "      <td>NaN</td>\n",
       "      <td>1.649920e+05</td>\n",
       "    </tr>\n",
       "    <tr>\n",
       "      <th>50%</th>\n",
       "      <td>2.937262e+07</td>\n",
       "      <td>3.000074e+07</td>\n",
       "      <td>3.721588e+06</td>\n",
       "      <td>5.252370e+06</td>\n",
       "      <td>0.000000</td>\n",
       "      <td>24.000000</td>\n",
       "      <td>16.000000</td>\n",
       "      <td>7.000000</td>\n",
       "      <td>2019.000000</td>\n",
       "      <td>16.000000</td>\n",
       "      <td>7.000000</td>\n",
       "      <td>2019.000000</td>\n",
       "      <td>0.000000</td>\n",
       "      <td>0.000000</td>\n",
       "      <td>0.000000</td>\n",
       "      <td>0.000000</td>\n",
       "      <td>NaN</td>\n",
       "      <td>NaN</td>\n",
       "      <td>1.649920e+05</td>\n",
       "    </tr>\n",
       "    <tr>\n",
       "      <th>75%</th>\n",
       "      <td>3.492009e+07</td>\n",
       "      <td>3.579029e+07</td>\n",
       "      <td>3.721588e+06</td>\n",
       "      <td>5.252370e+06</td>\n",
       "      <td>0.000000</td>\n",
       "      <td>24.000000</td>\n",
       "      <td>23.000000</td>\n",
       "      <td>10.000000</td>\n",
       "      <td>2020.000000</td>\n",
       "      <td>23.000000</td>\n",
       "      <td>10.000000</td>\n",
       "      <td>2020.000000</td>\n",
       "      <td>0.000000</td>\n",
       "      <td>0.000000</td>\n",
       "      <td>0.000000</td>\n",
       "      <td>0.000000</td>\n",
       "      <td>NaN</td>\n",
       "      <td>NaN</td>\n",
       "      <td>1.649920e+05</td>\n",
       "    </tr>\n",
       "    <tr>\n",
       "      <th>max</th>\n",
       "      <td>3.994458e+07</td>\n",
       "      <td>4.093600e+07</td>\n",
       "      <td>5.449729e+06</td>\n",
       "      <td>5.252370e+06</td>\n",
       "      <td>828.000000</td>\n",
       "      <td>48.000000</td>\n",
       "      <td>31.000000</td>\n",
       "      <td>12.000000</td>\n",
       "      <td>2021.000000</td>\n",
       "      <td>31.000000</td>\n",
       "      <td>12.000000</td>\n",
       "      <td>2021.000000</td>\n",
       "      <td>338100.000000</td>\n",
       "      <td>3381.000000</td>\n",
       "      <td>656700.000000</td>\n",
       "      <td>6567.000000</td>\n",
       "      <td>NaN</td>\n",
       "      <td>NaN</td>\n",
       "      <td>1.181981e+06</td>\n",
       "    </tr>\n",
       "  </tbody>\n",
       "</table>\n",
       "</div>"
      ],
      "text/plain": [
       "                 id   customer_id    product_id  next_product_id  \\\n",
       "count  2.115980e+05  2.115980e+05  2.115980e+05     1.360000e+02   \n",
       "mean   2.791722e+07  2.805433e+07  3.777904e+06     5.041808e+06   \n",
       "std    8.274157e+06  8.883960e+06  2.514353e+05     4.553721e+05   \n",
       "min    7.648758e+06  7.503912e+06  3.637277e+06     3.637278e+06   \n",
       "25%    2.205031e+07  2.132963e+07  3.721588e+06     5.244731e+06   \n",
       "50%    2.937262e+07  3.000074e+07  3.721588e+06     5.252370e+06   \n",
       "75%    3.492009e+07  3.579029e+07  3.721588e+06     5.252370e+06   \n",
       "max    3.994458e+07  4.093600e+07  5.449729e+06     5.252370e+06   \n",
       "\n",
       "       recurring_price  recurring_interval  created_at_day  created_at_month  \\\n",
       "count    211598.000000       211598.000000   211598.000000     211598.000000   \n",
       "mean         16.137842           19.359474       15.778164          6.548266   \n",
       "std          75.196551            8.694737        8.720411          3.494414   \n",
       "min           0.000000            1.000000        1.000000          1.000000   \n",
       "25%           0.000000           24.000000        8.000000          3.000000   \n",
       "50%           0.000000           24.000000       16.000000          7.000000   \n",
       "75%           0.000000           24.000000       23.000000         10.000000   \n",
       "max         828.000000           48.000000       31.000000         12.000000   \n",
       "\n",
       "       created_at_year  canceled_at_day  canceled_at_month  canceled_at_year  \\\n",
       "count    211598.000000      6876.000000        6876.000000       6876.000000   \n",
       "mean       2018.829682        16.053083           6.790867       2018.936446   \n",
       "std           1.557824         8.620800           3.461272          1.591579   \n",
       "min        2015.000000         1.000000           1.000000       2015.000000   \n",
       "25%        2018.000000         9.000000           4.000000       2018.000000   \n",
       "50%        2019.000000        16.000000           7.000000       2019.000000   \n",
       "75%        2020.000000        23.000000          10.000000       2020.000000   \n",
       "max        2021.000000        31.000000          12.000000       2021.000000   \n",
       "\n",
       "       balance_in_cents        balance  revenue_in_cents        revenue  \\\n",
       "count     211598.000000  211598.000000     211598.000000  211598.000000   \n",
       "mean         505.343623       5.053436       2292.808235      22.928082   \n",
       "std         8741.348524      87.413485      12896.710822     128.967108   \n",
       "min       -28799.000000    -287.990000          0.000000       0.000000   \n",
       "25%            0.000000       0.000000          0.000000       0.000000   \n",
       "50%            0.000000       0.000000          0.000000       0.000000   \n",
       "75%            0.000000       0.000000          0.000000       0.000000   \n",
       "max       338100.000000    3381.000000     656700.000000    6567.000000   \n",
       "\n",
       "       product_version_number  referral_code  product_price_point_id  \n",
       "count                     0.0            0.0            2.115980e+05  \n",
       "mean                      NaN            NaN            2.004407e+05  \n",
       "std                       NaN            NaN            1.450535e+05  \n",
       "min                       NaN            NaN            1.282330e+05  \n",
       "25%                       NaN            NaN            1.649920e+05  \n",
       "50%                       NaN            NaN            1.649920e+05  \n",
       "75%                       NaN            NaN            1.649920e+05  \n",
       "max                       NaN            NaN            1.181981e+06  "
      ]
     },
     "execution_count": 22,
     "metadata": {},
     "output_type": "execute_result"
    }
   ],
   "source": [
    "df2.describe()"
   ]
  },
  {
   "cell_type": "code",
   "execution_count": 23,
   "metadata": {},
   "outputs": [
    {
     "data": {
      "text/plain": [
       "(211598, 45)"
      ]
     },
     "execution_count": 23,
     "metadata": {},
     "output_type": "execute_result"
    }
   ],
   "source": [
    "df2.shape"
   ]
  },
  {
   "cell_type": "code",
   "execution_count": 24,
   "metadata": {},
   "outputs": [
    {
     "data": {
      "text/html": [
       "<div>\n",
       "<style scoped>\n",
       "    .dataframe tbody tr th:only-of-type {\n",
       "        vertical-align: middle;\n",
       "    }\n",
       "\n",
       "    .dataframe tbody tr th {\n",
       "        vertical-align: top;\n",
       "    }\n",
       "\n",
       "    .dataframe thead th {\n",
       "        text-align: right;\n",
       "    }\n",
       "</style>\n",
       "<table border=\"1\" class=\"dataframe\">\n",
       "  <thead>\n",
       "    <tr style=\"text-align: right;\">\n",
       "      <th></th>\n",
       "      <th>id</th>\n",
       "      <th>customer_id</th>\n",
       "      <th>state</th>\n",
       "      <th>product_id</th>\n",
       "      <th>next_product_id</th>\n",
       "      <th>product_name</th>\n",
       "      <th>recurring_price</th>\n",
       "      <th>recurring_interval</th>\n",
       "      <th>recurring_interval_unit</th>\n",
       "      <th>period</th>\n",
       "      <th>...</th>\n",
       "      <th>referral_code</th>\n",
       "      <th>state_changed_at</th>\n",
       "      <th>cancellation_method</th>\n",
       "      <th>reason_code</th>\n",
       "      <th>payment_collection_method</th>\n",
       "      <th>payment_profile_type</th>\n",
       "      <th>currency</th>\n",
       "      <th>currency_symbol</th>\n",
       "      <th>product_price_point_id</th>\n",
       "      <th>product_price_point_name</th>\n",
       "    </tr>\n",
       "  </thead>\n",
       "  <tbody>\n",
       "    <tr>\n",
       "      <th>0</th>\n",
       "      <td>7648758</td>\n",
       "      <td>7503912</td>\n",
       "      <td>canceled</td>\n",
       "      <td>3666277</td>\n",
       "      <td>NaN</td>\n",
       "      <td>Standard Monthly</td>\n",
       "      <td>49</td>\n",
       "      <td>1</td>\n",
       "      <td>month</td>\n",
       "      <td>1 month</td>\n",
       "      <td>...</td>\n",
       "      <td>NaN</td>\n",
       "      <td>2018-02-27 09:11:28 +1100</td>\n",
       "      <td>merchant_ui</td>\n",
       "      <td>CH:Unknown</td>\n",
       "      <td>automatic</td>\n",
       "      <td>CreditCard</td>\n",
       "      <td>AUD</td>\n",
       "      <td>$</td>\n",
       "      <td>139067</td>\n",
       "      <td>Default</td>\n",
       "    </tr>\n",
       "  </tbody>\n",
       "</table>\n",
       "<p>1 rows × 45 columns</p>\n",
       "</div>"
      ],
      "text/plain": [
       "        id  customer_id     state  product_id  next_product_id  \\\n",
       "0  7648758      7503912  canceled     3666277              NaN   \n",
       "\n",
       "        product_name  recurring_price  recurring_interval  \\\n",
       "0  Standard Monthly                49                   1   \n",
       "\n",
       "  recurring_interval_unit   period  ... referral_code  \\\n",
       "0                   month  1 month  ...           NaN   \n",
       "\n",
       "            state_changed_at  cancellation_method  reason_code  \\\n",
       "0  2018-02-27 09:11:28 +1100          merchant_ui   CH:Unknown   \n",
       "\n",
       "   payment_collection_method payment_profile_type currency currency_symbol  \\\n",
       "0                  automatic           CreditCard      AUD               $   \n",
       "\n",
       "  product_price_point_id product_price_point_name  \n",
       "0                 139067                  Default  \n",
       "\n",
       "[1 rows x 45 columns]"
      ]
     },
     "execution_count": 24,
     "metadata": {},
     "output_type": "execute_result"
    }
   ],
   "source": [
    "df2.head(1)"
   ]
  },
  {
   "cell_type": "code",
   "execution_count": 25,
   "metadata": {},
   "outputs": [
    {
     "data": {
      "text/plain": [
       "Index(['id', 'customer_id', 'state', 'product_id', 'next_product_id',\n",
       "       'product_name', 'recurring_price', 'recurring_interval',\n",
       "       'recurring_interval_unit', 'period', 'coupon', 'created_at',\n",
       "       'created_at_day', 'created_at_month', 'created_at_year',\n",
       "       'current_period_starts_at', 'current_period_ends_at',\n",
       "       'next_assessment_at', 'trial_started_at', 'trial_ended_at',\n",
       "       'activated_at', 'expires_at', 'canceled_at', 'canceled_at_day',\n",
       "       'canceled_at_month', 'canceled_at_year', 'cancellation_message',\n",
       "       'balance_in_cents', 'balance', 'revenue_in_cents', 'revenue',\n",
       "       'cancel_at_end_of_period', 'delayed_cancel_at',\n",
       "       'product_version_number', 'updated_at', 'referral_code',\n",
       "       'state_changed_at', 'cancellation_method', 'reason_code',\n",
       "       'payment_collection_method', 'payment_profile_type', 'currency',\n",
       "       'currency_symbol', 'product_price_point_id',\n",
       "       'product_price_point_name'],\n",
       "      dtype='object')"
      ]
     },
     "execution_count": 25,
     "metadata": {},
     "output_type": "execute_result"
    }
   ],
   "source": [
    "df2.columns"
   ]
  },
  {
   "cell_type": "code",
   "execution_count": 26,
   "metadata": {},
   "outputs": [],
   "source": [
    "#I chose to drop the following columns: 'recurring_interval', 'recurring_interval_unit','created_at_day', 'created_at_month',\n",
    "#'next_assessment_at', 'activated_at','expires_at','canceled_at_day','canceled_at_month','cancellation_message',\n",
    "#'balance_in_cents', 'balance','revenue_in_cents','cancellation_method','payment_collection_method', 'payment_profile_type', 'currency',\n",
    "#'currency_symbol'."
   ]
  },
  {
   "cell_type": "code",
   "execution_count": 27,
   "metadata": {},
   "outputs": [],
   "source": [
    "df2.drop(columns = ['recurring_interval', 'recurring_interval_unit','created_at_day', 'created_at_month',\n",
    "'next_assessment_at', 'activated_at','expires_at','canceled_at_day','canceled_at_month','cancellation_message',\n",
    "'balance_in_cents', 'balance','revenue_in_cents','cancellation_method','payment_collection_method', 'payment_profile_type', \n",
    "'currency','currency_symbol'], inplace = True)"
   ]
  },
  {
   "cell_type": "code",
   "execution_count": 28,
   "metadata": {},
   "outputs": [
    {
     "data": {
      "text/plain": [
       "Index(['id', 'customer_id', 'state', 'product_id', 'next_product_id',\n",
       "       'product_name', 'recurring_price', 'period', 'coupon', 'created_at',\n",
       "       'created_at_year', 'current_period_starts_at', 'current_period_ends_at',\n",
       "       'trial_started_at', 'trial_ended_at', 'canceled_at', 'canceled_at_year',\n",
       "       'revenue', 'cancel_at_end_of_period', 'delayed_cancel_at',\n",
       "       'product_version_number', 'updated_at', 'referral_code',\n",
       "       'state_changed_at', 'reason_code', 'product_price_point_id',\n",
       "       'product_price_point_name'],\n",
       "      dtype='object')"
      ]
     },
     "execution_count": 28,
     "metadata": {},
     "output_type": "execute_result"
    }
   ],
   "source": [
    "df2.columns"
   ]
  },
  {
   "cell_type": "code",
   "execution_count": 29,
   "metadata": {},
   "outputs": [
    {
     "data": {
      "text/plain": [
       "array(['Standard Monthly ', '6 month beta plan', 'Monthly beta plan',\n",
       "       'Freemium', 'Standard Monthly No Trial', 'Essentials Plan (Promo)',\n",
       "       'Free LawPath Subscription ', 'LawPath Ambassador ', 'Basic Plan',\n",
       "       'CeBit Free Trial ', 'Default Transactional Plan', 'Easy-ESS',\n",
       "       'Quotes', 'Essentials Plan', 'Legal Health Check ',\n",
       "       'Quote Customer Plan', 'ACN Annual Plan', 'Free Company Plan',\n",
       "       'NRF Investment Package', 'NRF Convertible Note Package',\n",
       "       'NRF Employment Package', 'Hackathon', 'ACN Half-Yearly Plan',\n",
       "       'New Annual ACN Subscription', 'Platform Lawyer',\n",
       "       'Legal Advice Plan (Promo)', 'DIY Will Document',\n",
       "       'Small Business Essentials', 'Company Starter Plan',\n",
       "       'Company Essentials Plan', 'Legal Advice Plan',\n",
       "       'Paying Platform Lawyer', 'Virtual Office Address',\n",
       "       'Company Legal Advice Plan', 'ASIC Company Renewal',\n",
       "       'Virtual Office', 'ASIC Company Change '], dtype=object)"
      ]
     },
     "execution_count": 29,
     "metadata": {},
     "output_type": "execute_result"
    }
   ],
   "source": [
    "df2.product_name.unique()"
   ]
  },
  {
   "cell_type": "code",
   "execution_count": 30,
   "metadata": {},
   "outputs": [],
   "source": [
    "#Following advice from Chandni, I dropped combined all rows that contained 'Basic Plan', 'Company Essentials Plan',\n",
    "#'Essentials Plan','Essentials Plan (Promo)','Small Business Essentials','Free Company Plan','Freemium','Hackathon',\n",
    "#'LawPath Ambassador','Quotes','Company Legal Advice Plan','Legal Advice Plan','Legal Advice Plan' or\n",
    "#'Legal Advice Plan (Promo)' into either Basic Plan, Essentials Plan or Legal Advice Plan."
   ]
  },
  {
   "cell_type": "code",
   "execution_count": 31,
   "metadata": {},
   "outputs": [],
   "source": [
    "df2.replace({'6 month beta plan':'Beta Plans',\n",
    "            'Monthly beta plan':'Beta Plans',\n",
    "            'Free LawPath Subscription ':'Free Trials',\n",
    "            'CeBit Free Trial ':'Free Trials',\n",
    "            'Quote Customer Plan':'Quotes',\n",
    "            'Essentials Plan (Promo)':'Essentials Plan',\n",
    "            'Legal Advice Plan (Promo)':'Legal Advice Plan',\n",
    "            'Company Essentials Plan': 'Essentials Plan',\n",
    "            'Company Legal Advice Plan':'Legal Advice Plan',\n",
    "            'ACN Annual Plan':'ACNs',\n",
    "            'New Annual ACN Subscription':'ACNs',\n",
    "            'ACN Half-Yearly Plan':'ACNs',\n",
    "            'Small Business Essentials':'Company Related Plans',\n",
    "            'Company Starter Plan':'Company Related Plans',\n",
    "            'ASIC Company Renewal':'Company Related Plans',\n",
    "            'ASIC Company Change ': 'Company Related Plans',\n",
    "            'Virtual Office Address':'Virtual Office',\n",
    "            'Standard Monthly No Trial':'Basic Plan',\n",
    "            'Standard Monthly':'Basic Plan',\n",
    "            'Hackathon':'Freemium',\n",
    "            'LawPath Ambassador':'Freemium',\n",
    "            'NRF Investment Package':'NRFs',\n",
    "            'NRF Convertible Note Package':'NRFs',\n",
    "            'NRF Employment Package':'NRFs'}, inplace=True)"
   ]
  },
  {
   "cell_type": "code",
   "execution_count": 32,
   "metadata": {},
   "outputs": [
    {
     "data": {
      "text/plain": [
       "array(['Standard Monthly ', 'Beta Plans', 'Freemium', 'Basic Plan',\n",
       "       'Essentials Plan', 'Free Trials', 'LawPath Ambassador ',\n",
       "       'Default Transactional Plan', 'Easy-ESS', 'Quotes',\n",
       "       'Legal Health Check ', 'ACNs', 'Free Company Plan', 'NRFs',\n",
       "       'Platform Lawyer', 'Legal Advice Plan', 'DIY Will Document',\n",
       "       'Company Related Plans', 'Paying Platform Lawyer',\n",
       "       'Virtual Office'], dtype=object)"
      ]
     },
     "execution_count": 32,
     "metadata": {},
     "output_type": "execute_result"
    }
   ],
   "source": [
    "df2.product_name.unique()"
   ]
  },
  {
   "cell_type": "code",
   "execution_count": 33,
   "metadata": {},
   "outputs": [],
   "source": [
    "df2.to_csv('FINAL CHARGIFY.csv')"
   ]
  },
  {
   "cell_type": "code",
   "execution_count": 34,
   "metadata": {},
   "outputs": [],
   "source": [
    "#It is worth noting I did attempt to merge the two dataframes but only about 8000 of them lined up. I have attached these \n",
    "#notebooks as well incase you with to see my working."
   ]
  },
  {
   "cell_type": "code",
   "execution_count": 35,
   "metadata": {},
   "outputs": [
    {
     "data": {
      "text/plain": [
       "Index(['id', 'customer_id', 'state', 'product_id', 'next_product_id',\n",
       "       'product_name', 'recurring_price', 'period', 'coupon', 'created_at',\n",
       "       'created_at_year', 'current_period_starts_at', 'current_period_ends_at',\n",
       "       'trial_started_at', 'trial_ended_at', 'canceled_at', 'canceled_at_year',\n",
       "       'revenue', 'cancel_at_end_of_period', 'delayed_cancel_at',\n",
       "       'product_version_number', 'updated_at', 'referral_code',\n",
       "       'state_changed_at', 'reason_code', 'product_price_point_id',\n",
       "       'product_price_point_name'],\n",
       "      dtype='object')"
      ]
     },
     "execution_count": 35,
     "metadata": {},
     "output_type": "execute_result"
    }
   ],
   "source": [
    "df2.columns"
   ]
  },
  {
   "cell_type": "code",
   "execution_count": 40,
   "metadata": {},
   "outputs": [],
   "source": [
    "df2['customer_id'] = pd.to_numeric(df2['customer_id'])"
   ]
  },
  {
   "cell_type": "code",
   "execution_count": 45,
   "metadata": {},
   "outputs": [
    {
     "data": {
      "text/html": [
       "<div>\n",
       "<style scoped>\n",
       "    .dataframe tbody tr th:only-of-type {\n",
       "        vertical-align: middle;\n",
       "    }\n",
       "\n",
       "    .dataframe tbody tr th {\n",
       "        vertical-align: top;\n",
       "    }\n",
       "\n",
       "    .dataframe thead th {\n",
       "        text-align: right;\n",
       "    }\n",
       "</style>\n",
       "<table border=\"1\" class=\"dataframe\">\n",
       "  <thead>\n",
       "    <tr style=\"text-align: right;\">\n",
       "      <th></th>\n",
       "      <th>Purchase Description</th>\n",
       "      <th>id</th>\n",
       "      <th>Created (UTC)</th>\n",
       "      <th>amount</th>\n",
       "      <th>Status</th>\n",
       "      <th>Customer ID</th>\n",
       "      <th>Chargify Customer ID</th>\n",
       "    </tr>\n",
       "  </thead>\n",
       "  <tbody>\n",
       "    <tr>\n",
       "      <th>0</th>\n",
       "      <td>Other</td>\n",
       "      <td>ch_103Yj32lFvsl0OXK0bNpvk6w</td>\n",
       "      <td>25/02/2014 3:10</td>\n",
       "      <td>89.0</td>\n",
       "      <td>Paid</td>\n",
       "      <td>cus_3Yj3561p02vmNN</td>\n",
       "      <td>NaN</td>\n",
       "    </tr>\n",
       "    <tr>\n",
       "      <th>1</th>\n",
       "      <td>Other</td>\n",
       "      <td>ch_103ZSA2lFvsl0OXK9uKS2EWj</td>\n",
       "      <td>27/02/2014 1:46</td>\n",
       "      <td>19.0</td>\n",
       "      <td>Paid</td>\n",
       "      <td>cus_3ZSA3oAjYJtoZ1</td>\n",
       "      <td>NaN</td>\n",
       "    </tr>\n",
       "    <tr>\n",
       "      <th>2</th>\n",
       "      <td>Other</td>\n",
       "      <td>ch_103Ztl2lFvsl0OXKUrXYQXiP</td>\n",
       "      <td>28/02/2014 6:18</td>\n",
       "      <td>19.0</td>\n",
       "      <td>Paid</td>\n",
       "      <td>cus_3ZtlkJMLpzJh27</td>\n",
       "      <td>NaN</td>\n",
       "    </tr>\n",
       "    <tr>\n",
       "      <th>3</th>\n",
       "      <td>Other</td>\n",
       "      <td>ch_103avO2lFvsl0OXKtKAA5D2Y</td>\n",
       "      <td>3/03/2014 0:03</td>\n",
       "      <td>39.0</td>\n",
       "      <td>Paid</td>\n",
       "      <td>cus_3avOKtwHwBvD6H</td>\n",
       "      <td>NaN</td>\n",
       "    </tr>\n",
       "    <tr>\n",
       "      <th>4</th>\n",
       "      <td>Other</td>\n",
       "      <td>ch_103avQ2lFvsl0OXKU0niKNCx</td>\n",
       "      <td>3/03/2014 0:05</td>\n",
       "      <td>19.0</td>\n",
       "      <td>Paid</td>\n",
       "      <td>cus_3avOKtwHwBvD6H</td>\n",
       "      <td>NaN</td>\n",
       "    </tr>\n",
       "  </tbody>\n",
       "</table>\n",
       "</div>"
      ],
      "text/plain": [
       "  Purchase Description                           id    Created (UTC)  amount  \\\n",
       "0                Other  ch_103Yj32lFvsl0OXK0bNpvk6w  25/02/2014 3:10    89.0   \n",
       "1                Other  ch_103ZSA2lFvsl0OXK9uKS2EWj  27/02/2014 1:46    19.0   \n",
       "2                Other  ch_103Ztl2lFvsl0OXKUrXYQXiP  28/02/2014 6:18    19.0   \n",
       "3                Other  ch_103avO2lFvsl0OXKtKAA5D2Y   3/03/2014 0:03    39.0   \n",
       "4                Other  ch_103avQ2lFvsl0OXKU0niKNCx   3/03/2014 0:05    19.0   \n",
       "\n",
       "  Status         Customer ID  Chargify Customer ID  \n",
       "0   Paid  cus_3Yj3561p02vmNN                   NaN  \n",
       "1   Paid  cus_3ZSA3oAjYJtoZ1                   NaN  \n",
       "2   Paid  cus_3ZtlkJMLpzJh27                   NaN  \n",
       "3   Paid  cus_3avOKtwHwBvD6H                   NaN  \n",
       "4   Paid  cus_3avOKtwHwBvD6H                   NaN  "
      ]
     },
     "execution_count": 45,
     "metadata": {},
     "output_type": "execute_result"
    }
   ],
   "source": [
    "df1."
   ]
  },
  {
   "cell_type": "code",
   "execution_count": 49,
   "metadata": {},
   "outputs": [
    {
     "data": {
      "text/plain": [
       "dtype('float64')"
      ]
     },
     "execution_count": 49,
     "metadata": {},
     "output_type": "execute_result"
    }
   ],
   "source": [
    "df1['Chargify Customer ID'].dtype"
   ]
  },
  {
   "cell_type": "code",
   "execution_count": 50,
   "metadata": {},
   "outputs": [
    {
     "data": {
      "text/plain": [
       "dtype('int64')"
      ]
     },
     "execution_count": 50,
     "metadata": {},
     "output_type": "execute_result"
    }
   ],
   "source": [
    "df2['customer_id'].dtype"
   ]
  },
  {
   "cell_type": "code",
   "execution_count": 51,
   "metadata": {},
   "outputs": [],
   "source": [
    "df2['customer_id'] = df2['customer_id'].astype(float)"
   ]
  },
  {
   "cell_type": "code",
   "execution_count": 55,
   "metadata": {},
   "outputs": [
    {
     "data": {
      "text/plain": [
       "dtype('float64')"
      ]
     },
     "execution_count": 55,
     "metadata": {},
     "output_type": "execute_result"
    }
   ],
   "source": [
    "df2['customer_id'].dtype"
   ]
  },
  {
   "cell_type": "code",
   "execution_count": 56,
   "metadata": {},
   "outputs": [
    {
     "data": {
      "text/plain": [
       "0          7503912.0\n",
       "1          7504537.0\n",
       "2          7504540.0\n",
       "3          7505723.0\n",
       "4          7506164.0\n",
       "             ...    \n",
       "211593    40935729.0\n",
       "211594    40935846.0\n",
       "211595    40935874.0\n",
       "211596    40935983.0\n",
       "211597    40936005.0\n",
       "Name: customer_id, Length: 211598, dtype: float64"
      ]
     },
     "execution_count": 56,
     "metadata": {},
     "output_type": "execute_result"
    }
   ],
   "source": [
    "df2['customer_id']"
   ]
  },
  {
   "cell_type": "code",
   "execution_count": 57,
   "metadata": {},
   "outputs": [
    {
     "data": {
      "text/plain": [
       "0               NaN\n",
       "1               NaN\n",
       "2               NaN\n",
       "3               NaN\n",
       "4               NaN\n",
       "            ...    \n",
       "48417    39459940.0\n",
       "48418    29071632.0\n",
       "48419    40722601.0\n",
       "48420    11100505.0\n",
       "48421    30520138.0\n",
       "Name: Chargify Customer ID, Length: 48422, dtype: float64"
      ]
     },
     "execution_count": 57,
     "metadata": {},
     "output_type": "execute_result"
    }
   ],
   "source": [
    "df1['Chargify Customer ID']"
   ]
  },
  {
   "cell_type": "code",
   "execution_count": 58,
   "metadata": {},
   "outputs": [],
   "source": [
    "df2.to_csv('FINAL CHARGIFY.csv')"
   ]
  },
  {
   "cell_type": "code",
   "execution_count": null,
   "metadata": {},
   "outputs": [],
   "source": []
  }
 ],
 "metadata": {
  "kernelspec": {
   "display_name": "Python 3",
   "language": "python",
   "name": "python3"
  },
  "language_info": {
   "codemirror_mode": {
    "name": "ipython",
    "version": 3
   },
   "file_extension": ".py",
   "mimetype": "text/x-python",
   "name": "python",
   "nbconvert_exporter": "python",
   "pygments_lexer": "ipython3",
   "version": "3.8.5"
  }
 },
 "nbformat": 4,
 "nbformat_minor": 4
}
