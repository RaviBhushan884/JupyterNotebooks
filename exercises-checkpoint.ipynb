{
 "cells": [
  {
   "cell_type": "markdown",
   "metadata": {},
   "source": [
    "<img src=\"http://imgur.com/1ZcRyrc.png\" style=\"float: left; margin: 20px; height: 55px\">\n",
    "\n",
    "# Python Iteration and Control Flow Exercises"
   ]
  },
  {
   "cell_type": "markdown",
   "metadata": {},
   "source": [
    "## Exercise 1: Loud Animals\n",
    "1. Create a list of your favorite animals in lowercase\n",
    "2. Loop through that list and print each animal out in all uppercase"
   ]
  },
  {
   "cell_type": "code",
   "execution_count": null,
   "metadata": {},
   "outputs": [],
   "source": []
  },
  {
   "cell_type": "markdown",
   "metadata": {},
   "source": [
    "Next, create a dictionary with your favorite animals as keys and the sounds those animals make as values. Loop through the dictionary and print each sound in all uppercase with an exclamation point."
   ]
  },
  {
   "cell_type": "code",
   "execution_count": null,
   "metadata": {},
   "outputs": [],
   "source": []
  },
  {
   "cell_type": "markdown",
   "metadata": {},
   "source": [
    "## Exercise 2: Divisors\n",
    "1. Select an integer and assign it to the `number` variable\n",
    "2. Create an empty list using one of the methods shown yesterday\n",
    "3. Using the appropriate list method, assemble a list of all its divisors (a number that divides into another without a remainder)"
   ]
  },
  {
   "cell_type": "code",
   "execution_count": null,
   "metadata": {},
   "outputs": [],
   "source": [
    "number = \n"
   ]
  },
  {
   "cell_type": "markdown",
   "metadata": {},
   "source": [
    "## Exercise 3: Factorials\n",
    "1. Select an integer and assign it to the `number` variable again.\n",
    "2. Compute its factorial\n",
    "\n",
    "_(Note: The factorial of a number $n$ is the product of all numbers $1, \\dots, n$.)_\n",
    "\n",
    "For example:\n",
    "\n",
    "$$5! = 1 \\times 2 \\times 3 \\times 4 \\times 5 = 120$$"
   ]
  },
  {
   "cell_type": "code",
   "execution_count": null,
   "metadata": {},
   "outputs": [],
   "source": [
    "number = "
   ]
  },
  {
   "cell_type": "markdown",
   "metadata": {},
   "source": [
    "## Exercise 4: Vowel Counter\n",
    "Given a string below, loop through the string and count the number of vowels in it.\n",
    "\n",
    "_(Reminder: If you loop through a string, you will loop through the characters in that string.)_"
   ]
  },
  {
   "cell_type": "code",
   "execution_count": 1,
   "metadata": {
    "ExecuteTime": {
     "end_time": "2020-12-13T22:51:35.178079Z",
     "start_time": "2020-12-13T22:51:35.175331Z"
    }
   },
   "outputs": [],
   "source": [
    "string = 'avocado toast is such a needlessly contentious food'\n",
    "\n",
    "# This is a counter that can be initialized as 0 and then iteratively added to\n",
    "vowel_count = 0\n",
    "for # complete"
   ]
  },
  {
   "cell_type": "markdown",
   "metadata": {},
   "source": [
    "## Exercise 5: FizzBuzz\n",
    "Loop through all the numbers 1 to 100, playing the game `FizzBuzz`. Here's how to play:\n",
    "\n",
    "* If a number is cleanly divisible by 3, print `fizz`\n",
    "* If a number is cleanly divisible by 5, print `buzz`\n",
    "* If it's cleanly divisible by BOTH 3 and 5, print `fizzbuzz`\n",
    "* If it's cleanly divisible by NEITHER 3 nor 5, print the numbers"
   ]
  },
  {
   "cell_type": "code",
   "execution_count": null,
   "metadata": {},
   "outputs": [],
   "source": []
  },
  {
   "cell_type": "markdown",
   "metadata": {},
   "source": [
    "Next, convert the loop and conditionals into a function called `FizzBuzz` without hardcoding in any values."
   ]
  },
  {
   "cell_type": "code",
   "execution_count": null,
   "metadata": {},
   "outputs": [],
   "source": []
  }
 ],
 "metadata": {
  "kernelspec": {
   "display_name": "Python 3",
   "language": "python",
   "name": "python3"
  },
  "language_info": {
   "codemirror_mode": {
    "name": "ipython",
    "version": 3
   },
   "file_extension": ".py",
   "mimetype": "text/x-python",
   "name": "python",
   "nbconvert_exporter": "python",
   "pygments_lexer": "ipython3",
   "version": "3.8.3"
  }
 },
 "nbformat": 4,
 "nbformat_minor": 1
}
