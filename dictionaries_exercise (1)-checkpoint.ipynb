{
 "cells": [
  {
   "cell_type": "markdown",
   "metadata": {},
   "source": [
    "<img src=\"https://ga-dash.s3.amazonaws.com/production/assets/logo-9f88ae6c9c3871690e33280fcf557f33.png\" style=\"float: left; margin: 10px;\">\n",
    "\n",
    "# Dictionaries exercise"
   ]
  },
  {
   "cell_type": "markdown",
   "metadata": {},
   "source": [
    "### What is a dictionary?\n",
    "\n",
    "> A dictionary is a container that holds items using a key value pairs.\n",
    "> **The items are stored unordered.** \n",
    "> The items must be indexed by their key -- not by position.\n",
    "\n",
    "### How are dictionaries denoted?\n",
    "\n",
    "> Curly braces: { }\n",
    "\n",
    "### What can a dictionary hold?\n",
    "\n",
    "> Any python data type or data structure: numerics, lists, tuples, other dictionaries, etc.\n",
    "\n",
    "### How do we select items in a dictionary?\n",
    "\n",
    "> By referencing the key using either .get('sample_key') or sample_dict['sample_key']\n",
    "\n",
    "\n",
    "\n",
    "Explore some of the built-in methods for dictionaries:\n",
    "- **.keys()** to get a list of the keys in the dictionary\n",
    "- **.values()** to get a list of the values in the dictionary\n",
    "- **.items()** to get a list of the key:value pairs in the dictionary\n",
    "- **.get(key)** to get the value for a key\n",
    "- **.pop(key)** to remove a key:value pair from the dictionary and return the value\n",
    "- **.update(other_dictionary)** to merge a 2nd dictionary into the current dictionary\n",
    "- **.clear()** to remove all key:value pairs from the dictionary"
   ]
  },
  {
   "cell_type": "markdown",
   "metadata": {},
   "source": [
    "## Codealong:"
   ]
  },
  {
   "cell_type": "markdown",
   "metadata": {},
   "source": [
    "### 1. Create a dictionary using the following zip codes: <br/>  \n",
    "> Key:Value pairs: `Bondurant: 50035, Dallas: 50062, Decatur: 50067, Hubbard: 50122, Polk City: 50226, Story City: 50248`<br/>\n",
    "\n",
    "> Name the dictionary `zipcodes`"
   ]
  },
  {
   "cell_type": "code",
   "execution_count": 38,
   "metadata": {},
   "outputs": [],
   "source": [
    "zipcodes = {'Bondurant':'50035','Dallas':'50062','Decatur':'50067','Hubbard':'50122','Polk City':'50226','Story City':'50248'}"
   ]
  },
  {
   "cell_type": "markdown",
   "metadata": {},
   "source": [
    "### 2. Select `Polk City` using `.get()` and assign it to the variable `polk_zip`"
   ]
  },
  {
   "cell_type": "code",
   "execution_count": 9,
   "metadata": {},
   "outputs": [],
   "source": [
    "polk_zip = zipcodes.get('Polk City')"
   ]
  },
  {
   "cell_type": "markdown",
   "metadata": {},
   "source": [
    "### 3. Print out the keys from the dictionary"
   ]
  },
  {
   "cell_type": "code",
   "execution_count": 20,
   "metadata": {},
   "outputs": [
    {
     "data": {
      "text/plain": [
       "{'Bondurant': '50035',\n",
       " 'Dallas': '50062',\n",
       " 'Decatur': '50067',\n",
       " 'Hubbard': '50122',\n",
       " 'Polk City': '50226',\n",
       " 'Story City': '50248'}"
      ]
     },
     "execution_count": 20,
     "metadata": {},
     "output_type": "execute_result"
    }
   ],
   "source": []
  },
  {
   "cell_type": "markdown",
   "metadata": {},
   "source": [
    "### 4. Print out the values from the dictionary"
   ]
  },
  {
   "cell_type": "code",
   "execution_count": 11,
   "metadata": {},
   "outputs": [
    {
     "data": {
      "text/plain": [
       "dict_values(['50035', '50062', '50067', '50122', '50226', '50248'])"
      ]
     },
     "execution_count": 11,
     "metadata": {},
     "output_type": "execute_result"
    }
   ],
   "source": [
    "zipcodes.values()"
   ]
  },
  {
   "cell_type": "markdown",
   "metadata": {},
   "source": [
    "### 5. Print out both the keys and values as a list of tuples using the appropriate method."
   ]
  },
  {
   "cell_type": "code",
   "execution_count": 12,
   "metadata": {},
   "outputs": [
    {
     "data": {
      "text/plain": [
       "dict_items([('Bondurant', '50035'), ('Dallas', '50062'), ('Decatur', '50067'), ('Hubbard', '50122'), ('Polk City', '50226'), ('Story City', '50248')])"
      ]
     },
     "execution_count": 12,
     "metadata": {},
     "output_type": "execute_result"
    }
   ],
   "source": [
    "zipcodes.items()"
   ]
  },
  {
   "cell_type": "code",
   "execution_count": null,
   "metadata": {},
   "outputs": [],
   "source": []
  },
  {
   "cell_type": "markdown",
   "metadata": {},
   "source": [
    "### 6. Add a new key to the `zipcodes` dict - use `Elkhart` as the key and 50073 as the value"
   ]
  },
  {
   "cell_type": "code",
   "execution_count": 34,
   "metadata": {},
   "outputs": [],
   "source": [
    "elkhart = {'Elkhart':'50073'}"
   ]
  },
  {
   "cell_type": "code",
   "execution_count": 40,
   "metadata": {},
   "outputs": [
    {
     "data": {
      "text/plain": [
       "{'Bondurant': '50035',\n",
       " 'Dallas': '50062',\n",
       " 'Decatur': '50067',\n",
       " 'Hubbard': '50122',\n",
       " 'Polk City': '50226',\n",
       " 'Story City': '50248',\n",
       " 'Elkhart': '50073'}"
      ]
     },
     "execution_count": 40,
     "metadata": {},
     "output_type": "execute_result"
    }
   ],
   "source": [
    "zipcodes.update(elkhart)\n",
    "\n",
    "zipcodes"
   ]
  },
  {
   "cell_type": "markdown",
   "metadata": {},
   "source": [
    "### 7. Create a `brand new` dictionary of _at least_ three local neighborhood/zip codes using the link below. Then join this new zip code dictionary with your first zip code dictionary using the .update() function\n",
    "\n",
    "[Zipcodes of Iowa](https://www.zipcodestogo.com/Iowa/)"
   ]
  },
  {
   "cell_type": "code",
   "execution_count": 24,
   "metadata": {},
   "outputs": [
    {
     "data": {
      "text/plain": [
       "{'Bondurant': '50035',\n",
       " 'Dallas': '50062',\n",
       " 'Decatur': '50067',\n",
       " 'Hubbard': '50122',\n",
       " 'Polk City': '50226',\n",
       " 'Story City': '50248',\n",
       " 'Ackworth': '50001',\n",
       " 'Adair': '50002',\n",
       " 'Adel': '50003'}"
      ]
     },
     "execution_count": 24,
     "metadata": {},
     "output_type": "execute_result"
    }
   ],
   "source": [
    "iowa_zip ={'Ackworth':'50001','Adair':'50002','Adel':'50003'}\n",
    "\n",
    "zipcodes.update(iowa_zip)\n",
    "zipcodes"
   ]
  },
  {
   "cell_type": "markdown",
   "metadata": {},
   "source": [
    "### 8. Pop an item out of the dictionary "
   ]
  },
  {
   "cell_type": "code",
   "execution_count": 41,
   "metadata": {},
   "outputs": [
    {
     "data": {
      "text/plain": [
       "'50248'"
      ]
     },
     "execution_count": 41,
     "metadata": {},
     "output_type": "execute_result"
    }
   ],
   "source": [
    "zipcodes.pop('Story City')\n"
   ]
  },
  {
   "cell_type": "code",
   "execution_count": 27,
   "metadata": {},
   "outputs": [
    {
     "data": {
      "text/plain": [
       "{'Bondurant': '50035',\n",
       " 'Dallas': '50062',\n",
       " 'Decatur': '50067',\n",
       " 'Hubbard': '50122',\n",
       " 'Polk City': '50226',\n",
       " 'Ackworth': '50001',\n",
       " 'Adair': '50002',\n",
       " 'Adel': '50003'}"
      ]
     },
     "execution_count": 27,
     "metadata": {},
     "output_type": "execute_result"
    }
   ],
   "source": [
    "zipcodes"
   ]
  },
  {
   "cell_type": "markdown",
   "metadata": {},
   "source": [
    "### 9. Clear all the key:value pairs from the dictionary using the appropriate method.\n",
    "- output the `zipcodes` to check your work"
   ]
  },
  {
   "cell_type": "code",
   "execution_count": 28,
   "metadata": {},
   "outputs": [
    {
     "data": {
      "text/plain": [
       "<function dict.clear>"
      ]
     },
     "execution_count": 28,
     "metadata": {},
     "output_type": "execute_result"
    }
   ],
   "source": [
    "zipcodes.clear"
   ]
  },
  {
   "cell_type": "code",
   "execution_count": 30,
   "metadata": {},
   "outputs": [],
   "source": [
    "zipcodes.clear()\n"
   ]
  },
  {
   "cell_type": "code",
   "execution_count": 31,
   "metadata": {},
   "outputs": [
    {
     "data": {
      "text/plain": [
       "{}"
      ]
     },
     "execution_count": 31,
     "metadata": {},
     "output_type": "execute_result"
    }
   ],
   "source": [
    "zipcodes"
   ]
  },
  {
   "cell_type": "code",
   "execution_count": null,
   "metadata": {},
   "outputs": [],
   "source": []
  }
 ],
 "metadata": {
  "kernelspec": {
   "display_name": "Python 3",
   "language": "python",
   "name": "python3"
  },
  "language_info": {
   "codemirror_mode": {
    "name": "ipython",
    "version": 3
   },
   "file_extension": ".py",
   "mimetype": "text/x-python",
   "name": "python",
   "nbconvert_exporter": "python",
   "pygments_lexer": "ipython3",
   "version": "3.8.5"
  }
 },
 "nbformat": 4,
 "nbformat_minor": 4
}
