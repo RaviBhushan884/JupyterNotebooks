{
 "cells": [
  {
   "cell_type": "markdown",
   "metadata": {
    "hideCode": false,
    "hidePrompt": false
   },
   "source": [
    "<img src=\"https://ga-dash.s3.amazonaws.com/production/assets/logo-9f88ae6c9c3871690e33280fcf557f33.png\" style=\"float: left; margin: 10px;\"> \n",
    "#  Intro to Python: Data Types\n",
    "\n",
    "---\n",
    "\n",
    "### LEARNING OBJECTIVES\n",
    "*After this lesson, you will be able to:*\n",
    "- Practice using handy Jupyter Notebook features\n",
    "- Create variables with expressive names that follow best practices.\n",
    "- Perform mathematical calculations using data types such as integers and floats\n",
    "- Use basic data types such as integers, floats, and strings"
   ]
  },
  {
   "cell_type": "markdown",
   "metadata": {
    "hideCode": false,
    "hidePrompt": false
   },
   "source": [
    "## First and foremost, Python is a Calculator\n",
    "\n",
    "Let's see some common mathematical operations:"
   ]
  },
  {
   "cell_type": "code",
   "execution_count": null,
   "metadata": {
    "ExecuteTime": {
     "end_time": "2020-12-14T15:03:02.613576Z",
     "start_time": "2020-12-14T15:03:02.603558Z"
    },
    "hideCode": false,
    "hidePrompt": false
   },
   "outputs": [],
   "source": [
    "# Addition\n",
    "1 + 1"
   ]
  },
  {
   "cell_type": "code",
   "execution_count": null,
   "metadata": {
    "ExecuteTime": {
     "end_time": "2020-12-14T15:03:03.254301Z",
     "start_time": "2020-12-14T15:03:03.250219Z"
    },
    "hideCode": false,
    "hidePrompt": false
   },
   "outputs": [],
   "source": [
    "# Subtraction (note we can have negative numbers!)\n",
    "4 - 10"
   ]
  },
  {
   "cell_type": "code",
   "execution_count": null,
   "metadata": {
    "ExecuteTime": {
     "end_time": "2020-12-14T15:03:03.582160Z",
     "start_time": "2020-12-14T15:03:03.578763Z"
    },
    "hideCode": false,
    "hidePrompt": false
   },
   "outputs": [],
   "source": [
    "# Multiplication\n",
    "5*3"
   ]
  },
  {
   "cell_type": "code",
   "execution_count": null,
   "metadata": {
    "ExecuteTime": {
     "end_time": "2020-12-14T15:03:03.900929Z",
     "start_time": "2020-12-14T15:03:03.896979Z"
    }
   },
   "outputs": [],
   "source": [
    "# Exponentiation (do NOT use ^ such as 5^2)\n",
    "# Five to the 2nd power\n",
    "5**2"
   ]
  },
  {
   "cell_type": "code",
   "execution_count": null,
   "metadata": {
    "ExecuteTime": {
     "end_time": "2020-12-14T15:03:04.181578Z",
     "start_time": "2020-12-14T15:03:04.178091Z"
    },
    "hideCode": false,
    "hidePrompt": false
   },
   "outputs": [],
   "source": [
    "# Division\n",
    "5 / 2"
   ]
  },
  {
   "cell_type": "code",
   "execution_count": null,
   "metadata": {
    "ExecuteTime": {
     "end_time": "2020-12-14T15:03:04.438002Z",
     "start_time": "2020-12-14T15:03:04.433905Z"
    },
    "hideCode": false,
    "hidePrompt": false
   },
   "outputs": [],
   "source": [
    "# Modular division (\"mod\" for short) - returns the remainder only\n",
    "# This symbol is referred to as the \"modulo\"\n",
    "5 % 2"
   ]
  },
  {
   "cell_type": "code",
   "execution_count": null,
   "metadata": {
    "ExecuteTime": {
     "end_time": "2020-12-14T15:03:04.664376Z",
     "start_time": "2020-12-14T15:03:04.660951Z"
    },
    "hideCode": false,
    "hidePrompt": false,
    "scrolled": true
   },
   "outputs": [],
   "source": [
    "# Floor division (ie \"round down\" division)\n",
    "# So instead of returning 2.5, it rounds down and returns 2\n",
    "5 // 2"
   ]
  },
  {
   "cell_type": "markdown",
   "metadata": {
    "hideCode": false,
    "hidePrompt": false
   },
   "source": [
    "Order of operations is important in Python and PEMDAS rules tend to apply here. \n",
    "\n",
    "**`PEMDAS`** is a handy acronym...\n",
    "\n",
    "- Parentheses\n",
    "- Exponents\n",
    "- Multiplication and Division (from left to right)\n",
    "- Addition and Subtraction (from left to right)"
   ]
  },
  {
   "cell_type": "markdown",
   "metadata": {
    "ExecuteTime": {
     "end_time": "2020-12-13T17:49:13.972423Z",
     "start_time": "2020-12-13T17:49:13.969671Z"
    }
   },
   "source": [
    "- Question 1: What is `5 + 2 * 3`? \n",
    "\n",
    "\n",
    "- Question 2: Would `(5 + 2) * 3` give you a different answer? Why or why not?\n",
    "\n",
    "\n",
    "- Question 3: Knowing what we know about PEMDAS, what would `((((12 + 3) * 3) - 5) / 2) - 12` return? "
   ]
  },
  {
   "cell_type": "markdown",
   "metadata": {
    "hideCode": false,
    "hidePrompt": false
   },
   "source": [
    "## Variables\n",
    "Great - Python is a fancy calculator. Cool. Now what?\n",
    "\n",
    "We can to save numbers, strings, etc. as **variables** so we can reference them later without memorizing their value. "
   ]
  },
  {
   "cell_type": "code",
   "execution_count": null,
   "metadata": {
    "ExecuteTime": {
     "end_time": "2020-12-14T15:03:05.540601Z",
     "start_time": "2020-12-14T15:03:05.537747Z"
    },
    "hideCode": false,
    "hidePrompt": false
   },
   "outputs": [],
   "source": [
    "# Assign a value to x\n",
    "x"
   ]
  },
  {
   "cell_type": "code",
   "execution_count": null,
   "metadata": {
    "ExecuteTime": {
     "end_time": "2020-12-14T15:03:05.779728Z",
     "start_time": "2020-12-14T15:03:05.775982Z"
    },
    "hideCode": false,
    "hidePrompt": false
   },
   "outputs": [],
   "source": [
    "# x represents that value until overwritten\n",
    "print(x)\n",
    "\n",
    "# Overwrite the original value of new with a new value\n",
    "\n"
   ]
  },
  {
   "cell_type": "markdown",
   "metadata": {
    "hideCode": false,
    "hidePrompt": false
   },
   "source": [
    "## Naming Rules\n",
    "\n",
    "You can _pretty much_ name variables whatever you want. But, there are a few rules we should follow. Some are strict, some are just good form.\n",
    "\n",
    "### Variable naming rules (mandatory)\n",
    "- Variable names can only consist of numbers, letters and underscores.\n",
    "- Variable names can't begin with numbers.\n",
    "- You can't name a variable after a built-in Python keyword (eg `if`).\n",
    "\n",
    "### Variable naming rules (good manners)\n",
    "- Names should be descriptive (ie, avoid naming variables `x` and `variable`)\n",
    "- No capital letters!\n",
    "- Variables should not begin with an underscore (this means something special in Python)\n",
    "- Multi-word variables should be in `snake_case`. All lower case separated by underscores.\n",
    "- Technically, you _can_ name variables after built-in Python _functions_ (like `print`), but it's an _extremely_ bad idea to do so.\n",
    "    - Rule of thumb: **_If a variable name you've chosen turns green, don't use it as a variable name_**!"
   ]
  },
  {
   "cell_type": "markdown",
   "metadata": {
    "hideCode": false,
    "hidePrompt": false
   },
   "source": [
    "#### If you've questions about keywords in Python, you can import the keyword module.\n",
    "[Keyword module docs](https://docs.python.org/3.7/library/keyword.html)"
   ]
  },
  {
   "cell_type": "code",
   "execution_count": 1,
   "metadata": {
    "ExecuteTime": {
     "end_time": "2020-12-14T15:19:56.061678Z",
     "start_time": "2020-12-14T15:19:56.058315Z"
    },
    "hideCode": false,
    "hidePrompt": false
   },
   "outputs": [],
   "source": [
    "import keyword"
   ]
  },
  {
   "cell_type": "code",
   "execution_count": null,
   "metadata": {
    "ExecuteTime": {
     "end_time": "2020-12-14T15:03:10.451787Z",
     "start_time": "2020-12-14T15:03:10.447643Z"
    },
    "hideCode": false,
    "hidePrompt": false,
    "scrolled": true
   },
   "outputs": [],
   "source": [
    "# Check out methods and attributes options for keyword \n"
   ]
  },
  {
   "cell_type": "code",
   "execution_count": null,
   "metadata": {
    "ExecuteTime": {
     "end_time": "2020-12-14T15:03:10.866219Z",
     "start_time": "2020-12-14T15:03:10.863830Z"
    },
    "hideCode": false,
    "hidePrompt": false
   },
   "outputs": [],
   "source": [
    "# Try the .keyword method for .iskeyword()\n"
   ]
  },
  {
   "cell_type": "markdown",
   "metadata": {
    "hideCode": false,
    "hidePrompt": false
   },
   "source": [
    "### Quick word problem...\n",
    "\n",
    "Create a variable named `order_cost` that captures the cost of your ice cream order at Gunthers:\n",
    "   - Three Ice Cream Sandwiches at 3.95 a piece\n",
    "   - Two Extra Thick milkshakes 2.15 a piece\n",
    "   - One pie with Graham Cracker Crust priced at 12.95\n",
    " \n",
    "\n",
    "Next, create a variable named `tax_rate` that contains any real (or hypothetical) sales tax on food items such as these.\n",
    "\n",
    "And if you want, you *can* create another variable named `tip_percentage` that contains the percentage you would tip on your order.\n",
    "\n",
    "`Question: What amount did you spend at Gunthers?`"
   ]
  },
  {
   "cell_type": "code",
   "execution_count": null,
   "metadata": {
    "ExecuteTime": {
     "end_time": "2020-12-14T15:03:11.861470Z",
     "start_time": "2020-12-14T15:03:11.857690Z"
    },
    "hideCode": false,
    "hidePrompt": false
   },
   "outputs": [],
   "source": [
    "order_cost = \n",
    "tax_rate = \n",
    "tip_percentage = "
   ]
  },
  {
   "cell_type": "markdown",
   "metadata": {
    "hideCode": false,
    "hidePrompt": false
   },
   "source": [
    "## So, what is a \"data type\"?\n",
    "When you hear the word \"data\", you probably think of a spreadsheet. Actually, **data is a synonym for information!** Anything that represents \"information\" is data. Including any and all Python variables. If I run `x = 3`, then `x` is data!\n",
    "\n",
    "Data can come in various **types.** We've already seen two types!\n",
    "\n",
    "1. The `int` type: Integers with no decimal part (eg `2`, `-30`, `14`)\n",
    "1. The `float` type: Numbers with a decimal part, even if that decimal part is just a zero (eg `2.5`, `3.141`, `2**0.5`, `-3.0`)\n",
    "\n",
    "Curious about what an object's data type is? Simply use the `type()` function to ask!\n",
    "\n",
    "```python\n",
    "type(3) # int\n",
    "type(4.2) # float\n",
    "```"
   ]
  },
  {
   "cell_type": "code",
   "execution_count": null,
   "metadata": {
    "ExecuteTime": {
     "end_time": "2020-12-14T15:03:12.854105Z",
     "start_time": "2020-12-14T15:03:12.849473Z"
    }
   },
   "outputs": [],
   "source": [
    "type(3)"
   ]
  },
  {
   "cell_type": "code",
   "execution_count": null,
   "metadata": {
    "ExecuteTime": {
     "end_time": "2020-12-14T15:03:13.036474Z",
     "start_time": "2020-12-14T15:03:13.032026Z"
    },
    "hideCode": false,
    "hidePrompt": false
   },
   "outputs": [],
   "source": [
    "type(4.2)"
   ]
  },
  {
   "cell_type": "code",
   "execution_count": null,
   "metadata": {
    "ExecuteTime": {
     "end_time": "2020-12-14T15:03:13.510931Z",
     "start_time": "2020-12-14T15:03:13.507142Z"
    }
   },
   "outputs": [],
   "source": [
    "type(\"We're going to see strings momentarily!\")"
   ]
  },
  {
   "cell_type": "code",
   "execution_count": null,
   "metadata": {
    "ExecuteTime": {
     "end_time": "2020-12-14T15:03:13.812391Z",
     "start_time": "2020-12-14T15:03:13.810234Z"
    }
   },
   "outputs": [],
   "source": [
    "# Quick digression into casting...\n",
    "\n",
    "# Sometimes you can \"cast\" and change a data type\n"
   ]
  },
  {
   "cell_type": "code",
   "execution_count": null,
   "metadata": {
    "ExecuteTime": {
     "end_time": "2020-12-14T15:03:14.278404Z",
     "start_time": "2020-12-14T15:03:14.275900Z"
    }
   },
   "outputs": [],
   "source": [
    "# You can convert a numeric datatype to a string\n",
    "\n"
   ]
  },
  {
   "cell_type": "code",
   "execution_count": null,
   "metadata": {
    "ExecuteTime": {
     "end_time": "2020-12-14T15:03:15.436123Z",
     "start_time": "2020-12-14T15:03:15.433632Z"
    },
    "scrolled": true
   },
   "outputs": [],
   "source": [
    "# But there are limits...\n",
    "\n"
   ]
  },
  {
   "cell_type": "markdown",
   "metadata": {
    "hideCode": false,
    "hidePrompt": false,
    "slideshow": {
     "slide_type": "slide"
    }
   },
   "source": [
    "## Strings\n",
    "\n",
    "---\n",
    "\n",
    "Strings are how we store text data in Python. Strings are _strings of characters_ (whitespace counts!) between either double quotes (`\"`) or single quotes (`'`). Python _generally_ doesn't care which as long as they match.\n",
    "\n",
    "\n"
   ]
  },
  {
   "cell_type": "code",
   "execution_count": null,
   "metadata": {
    "ExecuteTime": {
     "end_time": "2020-12-14T15:03:16.004890Z",
     "start_time": "2020-12-14T15:03:16.000169Z"
    },
    "hideCode": false,
    "hidePrompt": false,
    "slideshow": {
     "slide_type": "fragment"
    }
   },
   "outputs": [],
   "source": [
    "\"The pen is mightier than the sword!\""
   ]
  },
  {
   "cell_type": "code",
   "execution_count": null,
   "metadata": {
    "ExecuteTime": {
     "end_time": "2020-12-14T15:03:16.220453Z",
     "start_time": "2020-12-14T15:03:16.216362Z"
    },
    "hideCode": false,
    "hidePrompt": false
   },
   "outputs": [],
   "source": [
    "'But is the pen mightier than the computer?'"
   ]
  },
  {
   "cell_type": "code",
   "execution_count": null,
   "metadata": {
    "ExecuteTime": {
     "end_time": "2020-12-14T15:03:16.464206Z",
     "start_time": "2020-12-14T15:03:16.461112Z"
    },
    "hideCode": false,
    "hidePrompt": false
   },
   "outputs": [],
   "source": [
    "# Multi-line string\n",
    "print(\"\"\"This is\n",
    "a multiline\n",
    "string!!!\"\"\")"
   ]
  },
  {
   "cell_type": "code",
   "execution_count": null,
   "metadata": {
    "ExecuteTime": {
     "end_time": "2020-12-14T15:03:16.678476Z",
     "start_time": "2020-12-14T15:03:16.675166Z"
    }
   },
   "outputs": [],
   "source": [
    "print(\"this is also\\na multiline string\")"
   ]
  },
  {
   "cell_type": "markdown",
   "metadata": {},
   "source": [
    "#### Two common escape characters\n",
    "- \\n is newline\n",
    "- \\t is tab\n",
    "\n",
    "- Escape characters can help if using single quotes around a string with contractions (ex: don't, can't, won't, etc.) inside. \n",
    "- Or you can just make life easier and use double quotes on the outside. "
   ]
  },
  {
   "cell_type": "code",
   "execution_count": null,
   "metadata": {
    "ExecuteTime": {
     "end_time": "2020-12-13T18:56:05.343043Z",
     "start_time": "2020-12-13T18:56:05.340517Z"
    },
    "hideCode": false,
    "hidePrompt": false
   },
   "outputs": [],
   "source": []
  },
  {
   "cell_type": "markdown",
   "metadata": {
    "hideCode": false,
    "hidePrompt": false,
    "slideshow": {
     "slide_type": "fragment"
    }
   },
   "source": [
    "The **print** command prints the value assigned to the variable on the screen. \n",
    "\n",
    "The **print** statement removes the quotations, whereas just running they jupyter cell with the variable at the last line leaves the quotations in.\n",
    "\n",
    "Again, you can use 'single' or \"double\" quotations to create a string variable."
   ]
  },
  {
   "cell_type": "markdown",
   "metadata": {
    "hideCode": false,
    "hidePrompt": false
   },
   "source": [
    "## String Math!\n",
    "Besides simply storing text, we can also operate on strings. Everything in Python has a **type**, and types can be operated on with their respective **methods**. Methods are actions we can perform on a type using the following syntax:\n",
    "\n",
    "```python\n",
    "variable_name.method(parameters)\n",
    "```"
   ]
  },
  {
   "cell_type": "code",
   "execution_count": null,
   "metadata": {
    "ExecuteTime": {
     "end_time": "2020-12-14T15:03:17.596536Z",
     "start_time": "2020-12-14T15:03:17.593781Z"
    },
    "hideCode": false,
    "hidePrompt": false
   },
   "outputs": [],
   "source": [
    "s1 = \"Be quiet\"\n",
    "s2 = \"this is a Python class!\""
   ]
  },
  {
   "cell_type": "code",
   "execution_count": null,
   "metadata": {
    "ExecuteTime": {
     "end_time": "2020-12-14T15:03:17.781276Z",
     "start_time": "2020-12-14T15:03:17.778774Z"
    },
    "hideCode": false,
    "hidePrompt": false
   },
   "outputs": [],
   "source": [
    "# Adding strings concatenates them! A term \n",
    "reprimand = s1 + \" \" + s2"
   ]
  },
  {
   "cell_type": "code",
   "execution_count": null,
   "metadata": {},
   "outputs": [],
   "source": []
  },
  {
   "cell_type": "code",
   "execution_count": null,
   "metadata": {
    "ExecuteTime": {
     "end_time": "2020-12-14T15:03:18.158590Z",
     "start_time": "2020-12-14T15:03:18.153873Z"
    }
   },
   "outputs": [],
   "source": [
    "s3 = \"¯\\_(ツ)_/¯\"\n",
    "\n",
    "reprimand = \n",
    "\n"
   ]
  },
  {
   "cell_type": "code",
   "execution_count": null,
   "metadata": {
    "ExecuteTime": {
     "end_time": "2020-12-14T15:03:18.338857Z",
     "start_time": "2020-12-14T15:03:18.336072Z"
    },
    "hideCode": false,
    "hidePrompt": false
   },
   "outputs": [],
   "source": [
    "# Multiplication with text\n"
   ]
  },
  {
   "cell_type": "code",
   "execution_count": null,
   "metadata": {
    "ExecuteTime": {
     "end_time": "2020-12-14T15:03:18.787672Z",
     "start_time": "2020-12-14T15:03:18.785137Z"
    },
    "hideCode": false,
    "hidePrompt": false
   },
   "outputs": [],
   "source": [
    "# Uppercasing is possible in Python using the built-in .upper() method\n"
   ]
  },
  {
   "cell_type": "code",
   "execution_count": null,
   "metadata": {
    "ExecuteTime": {
     "end_time": "2020-12-13T18:22:58.735788Z",
     "start_time": "2020-12-13T18:22:58.732119Z"
    },
    "hideCode": false,
    "hidePrompt": false
   },
   "outputs": [],
   "source": [
    "# There are plenty of commands. Let's try out Jupyter's autocomplete\n",
    "# feature to see what we can do!\n",
    "reprimand."
   ]
  },
  {
   "cell_type": "markdown",
   "metadata": {},
   "source": [
    "Question: Does the use of .upper() change the case of the words in the variable \n",
    "reprimand \"permanently\", or does it just change the case in that Jupyter Notebook cell output?\n"
   ]
  },
  {
   "cell_type": "code",
   "execution_count": null,
   "metadata": {
    "ExecuteTime": {
     "end_time": "2020-12-13T18:22:59.983265Z",
     "start_time": "2020-12-13T18:22:59.980930Z"
    },
    "hideCode": false,
    "hidePrompt": false
   },
   "outputs": [],
   "source": [
    "# A:\n"
   ]
  },
  {
   "cell_type": "code",
   "execution_count": null,
   "metadata": {
    "ExecuteTime": {
     "end_time": "2020-12-13T18:23:00.565184Z",
     "start_time": "2020-12-13T18:23:00.562527Z"
    },
    "hideCode": false,
    "hidePrompt": false
   },
   "outputs": [],
   "source": [
    "# Now try .lowercase using the appropriate method\n"
   ]
  },
  {
   "cell_type": "code",
   "execution_count": null,
   "metadata": {
    "ExecuteTime": {
     "end_time": "2020-12-13T18:23:00.917656Z",
     "start_time": "2020-12-13T18:23:00.915431Z"
    },
    "hideCode": false,
    "hidePrompt": false
   },
   "outputs": [],
   "source": [
    "# Try .title() or .capitalize()\n"
   ]
  },
  {
   "cell_type": "code",
   "execution_count": null,
   "metadata": {
    "ExecuteTime": {
     "end_time": "2020-12-13T18:23:01.317590Z",
     "start_time": "2020-12-13T18:23:01.314711Z"
    },
    "hideCode": false,
    "hidePrompt": false
   },
   "outputs": [],
   "source": [
    "# Let's have some fun with .replace()!\n",
    "\n",
    "cheer = "
   ]
  },
  {
   "cell_type": "code",
   "execution_count": null,
   "metadata": {
    "ExecuteTime": {
     "end_time": "2020-12-13T18:23:02.101575Z",
     "start_time": "2020-12-13T18:23:02.098182Z"
    },
    "hideCode": false,
    "hidePrompt": false,
    "scrolled": true
   },
   "outputs": [],
   "source": [
    "# Never hurts to check your work...\n",
    "cheer"
   ]
  },
  {
   "cell_type": "code",
   "execution_count": null,
   "metadata": {
    "ExecuteTime": {
     "end_time": "2020-12-13T18:23:07.495464Z",
     "start_time": "2020-12-13T18:23:07.491330Z"
    },
    "hideCode": false,
    "hidePrompt": false
   },
   "outputs": [],
   "source": [
    "# Also: An extremely useful method is .split()\n",
    "cheer.split()"
   ]
  },
  {
   "cell_type": "markdown",
   "metadata": {
    "hideCode": false,
    "hidePrompt": false,
    "slideshow": {
     "slide_type": "slide"
    }
   },
   "source": [
    "## Slicin' Strings\n",
    "We may also want to pick apart our strings. We can do this by **indexing** or **slicing**. \n",
    "\n",
    "In fact, you can index or slice several different types in Python, such as strings, lists, tuples, sets, etc.\n",
    "\n",
    "---\n",
    "\n",
    "All of the above types can be accessed using brackets in the following ways:\n",
    "\n",
    "- **`s[0]`** References the first element\n",
    "- **`s[0:4]`** References the first **4** elements of a string from index **`0`**.\n",
    "- **`s[-1]`** Reference the _first_ item in reverse order (or the last item).\n",
    "- **`s[-2]`** Reference the _second_ item in reverse order (second to last item).\n",
    "- **`s[0:-3]`** Reference everything _except the last 3_ elements.\n",
    "\n",
    "\n",
    "- Think of what's inside those brackets as `[start : stop : step]`\n",
    "     - start is inclusive (includes the number you enter)\n",
    "     - stop is exclusive (includes _up to_ the number you enter)\n",
    "     - step defaults to 1 but that default can be changed\n",
    "     - You may list out all three or you may not."
   ]
  },
  {
   "cell_type": "code",
   "execution_count": null,
   "metadata": {
    "ExecuteTime": {
     "end_time": "2020-12-13T17:59:43.477377Z",
     "start_time": "2020-12-13T17:59:43.474523Z"
    },
    "hideCode": false,
    "hidePrompt": false
   },
   "outputs": [],
   "source": [
    "s = \"Python programming is really fun\""
   ]
  },
  {
   "cell_type": "code",
   "execution_count": null,
   "metadata": {
    "ExecuteTime": {
     "end_time": "2020-12-13T17:59:44.062634Z",
     "start_time": "2020-12-13T17:59:44.058596Z"
    },
    "hideCode": false,
    "hidePrompt": false,
    "scrolled": true
   },
   "outputs": [],
   "source": [
    "# Remember what I said about \"strings are characters?\"\n",
    "# Using the built-in len() method we get a count of all the characters in the string\n",
    "# represented by the variable name \"s\" (including the whitespace!)\n",
    "len(s)"
   ]
  },
  {
   "cell_type": "code",
   "execution_count": null,
   "metadata": {
    "ExecuteTime": {
     "end_time": "2020-12-13T17:59:44.711154Z",
     "start_time": "2020-12-13T17:59:44.707233Z"
    },
    "hideCode": false,
    "hidePrompt": false
   },
   "outputs": [],
   "source": [
    "# First letter - remember Python is a zero-based index language\n",
    "s[0]"
   ]
  },
  {
   "cell_type": "code",
   "execution_count": null,
   "metadata": {
    "ExecuteTime": {
     "end_time": "2020-12-13T17:59:45.222674Z",
     "start_time": "2020-12-13T17:59:45.218871Z"
    },
    "hideCode": false,
    "hidePrompt": false,
    "scrolled": true
   },
   "outputs": [],
   "source": [
    "# First example of whitespace in the string\n",
    "s[6]"
   ]
  },
  {
   "cell_type": "code",
   "execution_count": null,
   "metadata": {
    "ExecuteTime": {
     "end_time": "2020-12-13T17:59:45.485966Z",
     "start_time": "2020-12-13T17:59:45.482271Z"
    },
    "hideCode": false,
    "hidePrompt": false,
    "scrolled": true
   },
   "outputs": [],
   "source": [
    "# Second letter\n",
    "s[1]"
   ]
  },
  {
   "cell_type": "code",
   "execution_count": null,
   "metadata": {
    "ExecuteTime": {
     "end_time": "2020-12-13T17:59:45.807746Z",
     "start_time": "2020-12-13T17:59:45.803915Z"
    },
    "hideCode": false,
    "hidePrompt": false
   },
   "outputs": [],
   "source": [
    "# Second through fourth letter\n",
    "s[1:4]"
   ]
  },
  {
   "cell_type": "code",
   "execution_count": null,
   "metadata": {
    "ExecuteTime": {
     "end_time": "2020-12-13T17:59:46.164803Z",
     "start_time": "2020-12-13T17:59:46.161183Z"
    },
    "hideCode": false,
    "hidePrompt": false
   },
   "outputs": [],
   "source": [
    "# First 5 letters\n",
    "s[:5]"
   ]
  },
  {
   "cell_type": "code",
   "execution_count": null,
   "metadata": {
    "ExecuteTime": {
     "end_time": "2020-12-13T17:59:46.513373Z",
     "start_time": "2020-12-13T17:59:46.509641Z"
    },
    "hideCode": false,
    "hidePrompt": false
   },
   "outputs": [],
   "source": [
    "s[5:]"
   ]
  },
  {
   "cell_type": "code",
   "execution_count": null,
   "metadata": {
    "ExecuteTime": {
     "end_time": "2020-12-13T17:59:46.945052Z",
     "start_time": "2020-12-13T17:59:46.941383Z"
    },
    "hideCode": false,
    "hidePrompt": false
   },
   "outputs": [],
   "source": [
    "# Last letter\n",
    "s[-1]"
   ]
  },
  {
   "cell_type": "code",
   "execution_count": null,
   "metadata": {
    "ExecuteTime": {
     "end_time": "2020-12-13T17:59:47.470663Z",
     "start_time": "2020-12-13T17:59:47.466746Z"
    },
    "hideCode": false,
    "hidePrompt": false
   },
   "outputs": [],
   "source": [
    "# Last 5 letters\n",
    "s[-5:]"
   ]
  },
  {
   "cell_type": "code",
   "execution_count": null,
   "metadata": {
    "ExecuteTime": {
     "end_time": "2020-12-13T17:59:47.867972Z",
     "start_time": "2020-12-13T17:59:47.864364Z"
    },
    "hideCode": false,
    "hidePrompt": false,
    "scrolled": true
   },
   "outputs": [],
   "source": [
    "s"
   ]
  },
  {
   "cell_type": "code",
   "execution_count": null,
   "metadata": {
    "hideCode": false,
    "hidePrompt": false
   },
   "outputs": [],
   "source": [
    "# The string output backwards\n",
    "\n",
    "# QUESTION:\n",
    "# Can anyone think of an example in a program where this might be truly useful?\n",
    "# If so, please share in the chat."
   ]
  },
  {
   "cell_type": "markdown",
   "metadata": {},
   "source": [
    "Question: Output the entire word \"programming\" from the string \"s\".\n",
    "* Do it two ways: \n",
    "   1. Using slicing\n",
    "   2. Using the built-in method .split()"
   ]
  },
  {
   "cell_type": "code",
   "execution_count": null,
   "metadata": {
    "hideCode": false,
    "hidePrompt": false
   },
   "outputs": [],
   "source": [
    "# Answer using slicing:\n"
   ]
  },
  {
   "cell_type": "code",
   "execution_count": null,
   "metadata": {},
   "outputs": [],
   "source": [
    "# Answer using the built-in method .split()\n"
   ]
  },
  {
   "cell_type": "markdown",
   "metadata": {
    "hideCode": false,
    "hidePrompt": false
   },
   "source": [
    "## In this lesson, we covered...\n",
    "- Handy Jupyter Notebook usage\n",
    "- Variable creation best practices\n",
    "- Basic math and casting in Python\n",
    "- String manipulation in Python"
   ]
  }
 ],
 "metadata": {
  "anaconda-cloud": {},
  "hide_code_all_hidden": false,
  "kernelspec": {
   "display_name": "Python 3",
   "language": "python",
   "name": "python3"
  },
  "language_info": {
   "codemirror_mode": {
    "name": "ipython",
    "version": 3
   },
   "file_extension": ".py",
   "mimetype": "text/x-python",
   "name": "python",
   "nbconvert_exporter": "python",
   "pygments_lexer": "ipython3",
   "version": "3.8.3"
  }
 },
 "nbformat": 4,
 "nbformat_minor": 2
}
