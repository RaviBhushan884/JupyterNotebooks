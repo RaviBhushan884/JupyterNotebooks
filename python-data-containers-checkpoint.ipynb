{
 "cells": [
  {
   "cell_type": "markdown",
   "metadata": {
    "hideCode": false,
    "hidePrompt": false
   },
   "source": [
    "<img src=\"https://ga-dash.s3.amazonaws.com/production/assets/logo-9f88ae6c9c3871690e33280fcf557f33.png\" style=\"float: left; margin: 10px;\"> \n",
    "#  Intro to Python: Data Containers\n",
    "\n",
    "---\n",
    "\n",
    "### LEARNING OBJECTIVES\n",
    "*After this lesson, you will be able to:*\n",
    "- Define complex data types (data containers) such as lists and dictionaries\n",
    "- Review the concept of booleans\n",
    "- Begin thinking of the ways you could use each type in your class work."
   ]
  },
  {
   "cell_type": "markdown",
   "metadata": {
    "hideCode": false,
    "hidePrompt": false
   },
   "source": [
    "## Collection Types!\n",
    "\n",
    "![](imgs/skittles.jpg)\n",
    "\n",
    "We often want to store many values in one variable. A _collection_. There are several collection types in Python. The first and most common is...\n",
    "\n",
    "## Lists\n",
    "Lists are mutable, heterogeneous collections.\n",
    "\n",
    "- **Mutable** = They can be changed\n",
    "- **Heterogeneous** = They can hold values of different data types"
   ]
  },
  {
   "cell_type": "code",
   "execution_count": null,
   "metadata": {
    "ExecuteTime": {
     "end_time": "2021-02-07T06:32:44.284431Z",
     "start_time": "2021-02-07T06:32:44.268534Z"
    },
    "hideCode": false,
    "hidePrompt": false
   },
   "outputs": [],
   "source": [
    "names = ['James', 'Nayan', 'Ovais', 'Chloe', 'Alexander', 'Maria', 'Jordan']\n",
    "type(names)"
   ]
  },
  {
   "cell_type": "markdown",
   "metadata": {},
   "source": [
    "### Let's slice up this list of names a bit..\n",
    "\n",
    "- Remember what's inside those brackets: `[start : stop : step]`\n",
    "     - start is inclusive (includes the number you enter)\n",
    "     - stop is exclusive (includes _up to_ the number you enter)\n",
    "     - step defaults to 1 but that default can be changed\n",
    "     - You may list out all three or you may not."
   ]
  },
  {
   "cell_type": "code",
   "execution_count": null,
   "metadata": {
    "ExecuteTime": {
     "end_time": "2020-12-04T13:06:06.558691Z",
     "start_time": "2020-12-04T13:06:06.554979Z"
    },
    "hideCode": false,
    "hidePrompt": false
   },
   "outputs": [],
   "source": [
    "# Reference 1st item - Again, Python is called a zero-based language\n"
   ]
  },
  {
   "cell_type": "code",
   "execution_count": null,
   "metadata": {
    "ExecuteTime": {
     "end_time": "2020-12-04T13:06:07.199452Z",
     "start_time": "2020-12-04T13:06:07.195639Z"
    },
    "hideCode": false,
    "hidePrompt": false,
    "scrolled": true
   },
   "outputs": [],
   "source": [
    "# Reference 2nd item\n"
   ]
  },
  {
   "cell_type": "code",
   "execution_count": null,
   "metadata": {
    "ExecuteTime": {
     "end_time": "2020-12-04T13:06:09.598822Z",
     "start_time": "2020-12-04T13:06:09.594932Z"
    },
    "hideCode": false,
    "hidePrompt": false
   },
   "outputs": [],
   "source": [
    "# Every other name...\n"
   ]
  },
  {
   "cell_type": "code",
   "execution_count": null,
   "metadata": {
    "ExecuteTime": {
     "end_time": "2020-12-04T13:06:11.262773Z",
     "start_time": "2020-12-04T13:06:11.259004Z"
    },
    "hideCode": false,
    "hidePrompt": false
   },
   "outputs": [],
   "source": [
    "# The list printed backwards! \n",
    "# You can use this approach on a list and its elements just like we did above with \n",
    "# the string \"s\"\n"
   ]
  },
  {
   "cell_type": "markdown",
   "metadata": {
    "hideCode": false,
    "hidePrompt": false
   },
   "source": [
    "### List Operations"
   ]
  },
  {
   "cell_type": "code",
   "execution_count": null,
   "metadata": {
    "ExecuteTime": {
     "end_time": "2020-12-04T13:06:14.326237Z",
     "start_time": "2020-12-04T13:06:14.322457Z"
    },
    "hideCode": false,
    "hidePrompt": false
   },
   "outputs": [],
   "source": [
    "# Check your work...\n",
    "names"
   ]
  },
  {
   "cell_type": "code",
   "execution_count": null,
   "metadata": {
    "ExecuteTime": {
     "end_time": "2020-12-04T13:06:30.137496Z",
     "start_time": "2020-12-04T13:06:30.135006Z"
    },
    "hideCode": false,
    "hidePrompt": false
   },
   "outputs": [],
   "source": [
    "# Append - adds a new element to the end of the list\n",
    "names.append(#....)"
   ]
  },
  {
   "cell_type": "code",
   "execution_count": null,
   "metadata": {
    "ExecuteTime": {
     "end_time": "2020-12-04T13:06:30.654260Z",
     "start_time": "2020-12-04T13:06:30.650077Z"
    },
    "hideCode": false,
    "hidePrompt": false
   },
   "outputs": [],
   "source": [
    "# Check your work...\n",
    "names"
   ]
  },
  {
   "cell_type": "code",
   "execution_count": null,
   "metadata": {
    "ExecuteTime": {
     "end_time": "2020-12-04T13:06:32.276469Z",
     "start_time": "2020-12-04T13:06:32.273801Z"
    },
    "hideCode": false,
    "hidePrompt": false
   },
   "outputs": [],
   "source": [
    "# Remove\n",
    "names.remove(#.....)"
   ]
  },
  {
   "cell_type": "code",
   "execution_count": null,
   "metadata": {
    "ExecuteTime": {
     "end_time": "2020-12-04T13:06:32.901684Z",
     "start_time": "2020-12-04T13:06:32.897669Z"
    },
    "hideCode": false,
    "hidePrompt": false
   },
   "outputs": [],
   "source": [
    "# Check your work...\n",
    "names"
   ]
  },
  {
   "cell_type": "code",
   "execution_count": null,
   "metadata": {
    "ExecuteTime": {
     "end_time": "2020-12-13T20:24:46.248427Z",
     "start_time": "2020-12-13T20:24:46.245674Z"
    },
    "hideCode": false,
    "hidePrompt": false,
    "scrolled": true
   },
   "outputs": [],
   "source": [
    "# Various ways to create a list\n",
    "\n",
    "#my_list = [] <-- this will come up more during control flow\n",
    "#names = ['James', 'Nayan', 'Ovais', 'Chloe', 'Alexander', 'Maria', 'Jordan']\n",
    "#my_list = list(\"ABCD\")\n",
    "\n",
    "# Remember to check your work with type(variable_name)..."
   ]
  },
  {
   "cell_type": "markdown",
   "metadata": {},
   "source": [
    "## Dictionaries\n",
    "\n",
    "![](imgs/open-dictionary.jpg)\n",
    "\n",
    "Dictionaries are very common. They're unordered, mutable key-value pairs. \n",
    "\n",
    "Think of them conceptually like an actual dictionary. The key is the \"word\" and the value is the \"definition\"."
   ]
  },
  {
   "cell_type": "markdown",
   "metadata": {},
   "source": [
    "### In a Slack thread, give me the names and addresses of a favorite place to get comfort food, coffee, tea, etc. and we'll build a dictionary"
   ]
  },
  {
   "cell_type": "code",
   "execution_count": null,
   "metadata": {
    "ExecuteTime": {
     "end_time": "2021-02-07T06:36:41.080087Z",
     "start_time": "2021-02-07T06:36:41.077355Z"
    }
   },
   "outputs": [],
   "source": [
    "favorite_spots = "
   ]
  },
  {
   "cell_type": "code",
   "execution_count": null,
   "metadata": {
    "ExecuteTime": {
     "end_time": "2020-12-13T20:42:18.819048Z",
     "start_time": "2020-12-13T20:42:18.815944Z"
    }
   },
   "outputs": [],
   "source": [
    "favorite_spots.\n",
    "\n",
    "# let's look at keys, values, items"
   ]
  },
  {
   "cell_type": "code",
   "execution_count": null,
   "metadata": {
    "ExecuteTime": {
     "end_time": "2020-12-13T20:42:48.312999Z",
     "start_time": "2020-12-13T20:42:48.309228Z"
    },
    "hideCode": false,
    "hidePrompt": false
   },
   "outputs": [],
   "source": [
    "# Indexing by the key\n",
    "favorite_spots[### key..."
   ]
  },
  {
   "cell_type": "code",
   "execution_count": null,
   "metadata": {
    "ExecuteTime": {
     "end_time": "2020-12-13T20:43:08.463556Z",
     "start_time": "2020-12-13T20:43:08.461117Z"
    },
    "hideCode": false,
    "hidePrompt": false
   },
   "outputs": [],
   "source": [
    "# Bzzt! Remember, dictionaries are unordered. No such thing as \"first\" element\n",
    "# Thus, you don't index in the way you would with lists and tuples\n",
    "#favorite_spots[0]"
   ]
  },
  {
   "cell_type": "markdown",
   "metadata": {},
   "source": [
    "### Let's add a new key:value pair..."
   ]
  },
  {
   "cell_type": "code",
   "execution_count": null,
   "metadata": {
    "ExecuteTime": {
     "end_time": "2020-12-13T20:44:36.901426Z",
     "start_time": "2020-12-13T20:44:36.897116Z"
    },
    "hideCode": false,
    "hidePrompt": false
   },
   "outputs": [],
   "source": [
    "favorite_spots[###key] = \"value\"\n",
    "favorite_spots"
   ]
  },
  {
   "cell_type": "code",
   "execution_count": null,
   "metadata": {
    "ExecuteTime": {
     "end_time": "2021-02-07T07:04:39.153885Z",
     "start_time": "2021-02-07T07:04:39.067493Z"
    },
    "hideCode": false,
    "hidePrompt": false,
    "scrolled": true
   },
   "outputs": [],
   "source": [
    "# What happens when we attempt to access a missing entry?\n",
    "favorite_spots[\"New Coffee Shop\"]"
   ]
  },
  {
   "cell_type": "code",
   "execution_count": null,
   "metadata": {
    "ExecuteTime": {
     "end_time": "2021-02-07T07:04:46.457804Z",
     "start_time": "2021-02-07T07:04:46.453313Z"
    },
    "hideCode": false,
    "hidePrompt": false
   },
   "outputs": [],
   "source": [
    "# You may want to have a \"default\" value for keys that don't exist.\n",
    "# We can do this with the .get() method.\n",
    "\n",
    "# Some people ONLY access dictionary keys with the .get().\n",
    "# This is starting to gain some traction and is thought to be a pretty good idea.\n",
    "favorite_spots.get(\"New Coffee Shop\", \"MISSING VALUE!!\")"
   ]
  },
  {
   "cell_type": "markdown",
   "metadata": {
    "hideCode": false,
    "hidePrompt": false
   },
   "source": [
    "## Dictionaries are a big deal!\n",
    "\n",
    "Dictionaries can get really big and really complicated, like the one below. You might think this is excessive, but it's very common. This is a very efficient way to store complicated data that don't fit neatly in a spreadsheet. In fact, dictionaries are the data type used by most web APIs! We'll need to parse big dictionaries to get data from the internet!"
   ]
  },
  {
   "cell_type": "code",
   "execution_count": null,
   "metadata": {
    "ExecuteTime": {
     "end_time": "2020-12-04T13:09:38.103477Z",
     "start_time": "2020-12-04T13:09:38.098974Z"
    },
    "hideCode": false,
    "hidePrompt": false
   },
   "outputs": [],
   "source": [
    "authors = {\n",
    "    \"J.R.R. Tolkien\": {\n",
    "        \"genre\": \"fantasy\",\n",
    "        \"books\": [\n",
    "            \"The Fellowship of the Ring\",\n",
    "            \"The Two Towers\",\n",
    "            \"The Return of the King\"\n",
    "        ],\n",
    "        \"active\": False\n",
    "    },\n",
    "    \"Brandon Sanderson\": {\n",
    "        \"genre\": \"fantasy\",\n",
    "        \"books\": [\n",
    "            \"The Way of Kings\",\n",
    "            \"Words of Radiance\",\n",
    "            \"Oathbringer\"\n",
    "        ],\n",
    "        \"active\": True,\n",
    "        \"phone\": {\n",
    "            \"home\": \"(281) 330-8004\",\n",
    "            \"work\": \"(877) CASH-NOW\"\n",
    "        }\n",
    "    },\n",
    "    \"Frank Herbert\": {\n",
    "        \"genre\": \"science fiction\",\n",
    "        \"books\": [\"Dune\"],\n",
    "        \"phone\": None,\n",
    "        \"active\": False\n",
    "    }\n",
    "}"
   ]
  },
  {
   "cell_type": "markdown",
   "metadata": {},
   "source": [
    "Question 1 : Output the name of Tolkien's second book"
   ]
  },
  {
   "cell_type": "code",
   "execution_count": null,
   "metadata": {
    "ExecuteTime": {
     "end_time": "2020-12-04T13:09:51.421592Z",
     "start_time": "2020-12-04T13:09:51.419474Z"
    },
    "hideCode": false,
    "hidePrompt": false
   },
   "outputs": [],
   "source": [
    "# A:\n",
    "\n"
   ]
  },
  {
   "cell_type": "markdown",
   "metadata": {},
   "source": [
    "Question 2: I need to call Brandon Sanderson about an idea for a screenplay.\n",
    "Can you get me his work number?"
   ]
  },
  {
   "cell_type": "code",
   "execution_count": null,
   "metadata": {
    "ExecuteTime": {
     "end_time": "2020-12-04T13:09:51.759771Z",
     "start_time": "2020-12-04T13:09:51.757669Z"
    },
    "hideCode": false,
    "hidePrompt": false
   },
   "outputs": [],
   "source": [
    "# A: \n",
    "\n"
   ]
  },
  {
   "cell_type": "markdown",
   "metadata": {
    "hideCode": false,
    "hidePrompt": false
   },
   "source": [
    "## Booleans\n",
    "\n",
    "![](imgs/boole.jpg)\n",
    "\n",
    "Booleans are variables that only have two different values: `True` and `False`. They're named after their founder, **George Boole** and will come in real handy when we discuss control flow tomorrow. \n",
    "\n",
    "In programming...\n",
    "- True is the equivalent of 1\n",
    "- False is the equivalent of 0\n",
    "\n",
    "Booleans really only have three operations you can perform on them: `and`, `or`, and `not`."
   ]
  },
  {
   "cell_type": "markdown",
   "metadata": {},
   "source": [
    "`and` - A and B only yields True if **both** A and B are true"
   ]
  },
  {
   "cell_type": "markdown",
   "metadata": {},
   "source": [
    "`or` - A and B only yields False if both A and B are false"
   ]
  },
  {
   "cell_type": "markdown",
   "metadata": {
    "ExecuteTime": {
     "end_time": "2021-02-07T06:34:18.730628Z",
     "start_time": "2021-02-07T06:34:18.724601Z"
    }
   },
   "source": [
    "`not` - Simply gives the opposite"
   ]
  },
  {
   "cell_type": "markdown",
   "metadata": {
    "ExecuteTime": {
     "end_time": "2021-02-07T06:43:36.941575Z",
     "start_time": "2021-02-07T06:43:36.816458Z"
    }
   },
   "source": [
    "![](imgs/truth_table.png)"
   ]
  },
  {
   "cell_type": "markdown",
   "metadata": {
    "hideCode": false,
    "hidePrompt": false
   },
   "source": [
    "## Cool story, Boole\n",
    "So what? We rarely actually define variables to be `True` or `False`. More often, we get them from asking Python math problems. You'll seem them again during the Pandas section. "
   ]
  },
  {
   "cell_type": "code",
   "execution_count": null,
   "metadata": {
    "ExecuteTime": {
     "end_time": "2020-12-04T13:09:58.358415Z",
     "start_time": "2020-12-04T13:09:58.354465Z"
    },
    "hideCode": false,
    "hidePrompt": false
   },
   "outputs": [],
   "source": [
    "# Greater than\n",
    "4 > 3"
   ]
  },
  {
   "cell_type": "code",
   "execution_count": null,
   "metadata": {
    "ExecuteTime": {
     "end_time": "2020-12-04T13:09:58.909925Z",
     "start_time": "2020-12-04T13:09:58.906238Z"
    },
    "hideCode": false,
    "hidePrompt": false
   },
   "outputs": [],
   "source": [
    "# Less than\n",
    "4 < 3"
   ]
  },
  {
   "cell_type": "code",
   "execution_count": null,
   "metadata": {
    "ExecuteTime": {
     "end_time": "2020-12-04T13:09:59.222346Z",
     "start_time": "2020-12-04T13:09:59.218653Z"
    },
    "hideCode": false,
    "hidePrompt": false
   },
   "outputs": [],
   "source": [
    "# Greater than or equal to\n",
    "3 >= 3"
   ]
  },
  {
   "cell_type": "code",
   "execution_count": null,
   "metadata": {
    "ExecuteTime": {
     "end_time": "2020-12-04T13:09:59.918551Z",
     "start_time": "2020-12-04T13:09:59.914514Z"
    },
    "hideCode": false,
    "hidePrompt": false
   },
   "outputs": [],
   "source": [
    "3 <= 3"
   ]
  },
  {
   "cell_type": "markdown",
   "metadata": {},
   "source": [
    "Remember PEMDAS? \n",
    "\n",
    "Question: What will `((3 > 4) and (10 > 2)) or ((3 > 2) or (4 >= 4))` return?"
   ]
  },
  {
   "cell_type": "code",
   "execution_count": null,
   "metadata": {
    "ExecuteTime": {
     "end_time": "2020-12-04T13:10:02.956295Z",
     "start_time": "2020-12-04T13:10:02.953911Z"
    },
    "hideCode": false,
    "hidePrompt": false
   },
   "outputs": [],
   "source": [
    "# A:\n"
   ]
  },
  {
   "cell_type": "markdown",
   "metadata": {},
   "source": [
    "Something that often takes a bit to get used to...\n",
    "\n",
    "One equal sign signals assignment of a value/values to a variable name.\n",
    "- Ex: `x = 7`\n",
    "- x will now return 7\n",
    "\n",
    "Two equal signs are used to check for equality.\n",
    "- If `x = 7`, then checking for equality between x and another value or variable could look\n",
    "like this...\n",
    "- `x == 8` \n",
    "- The above would return False in this instance."
   ]
  },
  {
   "cell_type": "code",
   "execution_count": null,
   "metadata": {},
   "outputs": [],
   "source": [
    "# Equals to\n",
    "\n"
   ]
  },
  {
   "cell_type": "code",
   "execution_count": null,
   "metadata": {
    "ExecuteTime": {
     "end_time": "2020-12-04T13:10:09.167469Z",
     "start_time": "2020-12-04T13:10:09.163802Z"
    },
    "hideCode": false,
    "hidePrompt": false
   },
   "outputs": [],
   "source": [
    "# Not equals to\n"
   ]
  },
  {
   "cell_type": "markdown",
   "metadata": {
    "hideCode": false,
    "hidePrompt": false
   },
   "source": [
    "## Things to test out and ponder...\n",
    "- Why does `0.2 + 0.1 == 0.3` yield the answer it does?\n",
    "- Why does `\"3\" + 3` yield an error?\n",
    "- Why does `True == 0` yield the answer it does?\n",
    "- What happens when you add two lists?\n",
    "- What happens when you multiply a list (or a string!) by an integer? Why does this happen?\n",
    "    - e.g. `\"*\" * 20` or `[1, 2, 3, 4] * 2`"
   ]
  },
  {
   "cell_type": "markdown",
   "metadata": {
    "hideCode": false,
    "hidePrompt": false
   },
   "source": [
    "## In this lesson, we covered...\n",
    "- Complex data types (i.e. data containers) such as lists and dictionaries in Python\n",
    "- Booleans in Python"
   ]
  }
 ],
 "metadata": {
  "anaconda-cloud": {},
  "hide_code_all_hidden": false,
  "kernelspec": {
   "display_name": "Python 3",
   "language": "python",
   "name": "python3"
  },
  "language_info": {
   "codemirror_mode": {
    "name": "ipython",
    "version": 3
   },
   "file_extension": ".py",
   "mimetype": "text/x-python",
   "name": "python",
   "nbconvert_exporter": "python",
   "pygments_lexer": "ipython3",
   "version": "3.8.3"
  }
 },
 "nbformat": 4,
 "nbformat_minor": 2
}
