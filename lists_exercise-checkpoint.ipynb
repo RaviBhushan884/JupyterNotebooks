{
 "cells": [
  {
   "cell_type": "markdown",
   "metadata": {
    "colab_type": "text",
    "id": "3apln0kFdnVt"
   },
   "source": [
    "# Lists Exercises"
   ]
  },
  {
   "cell_type": "markdown",
   "metadata": {
    "colab_type": "text",
    "id": "6klwRizbdnVu"
   },
   "source": [
    "This is a notebook of lists exercises to get you up to speed with using lists.\n",
    "\n",
    "I've included hints within the exercise that lead to the documentation. Do your best to read the docs if needed - a little struggle is a good thing!"
   ]
  },
  {
   "cell_type": "markdown",
   "metadata": {
    "colab_type": "text",
    "id": "FFJa3MR5dnVv"
   },
   "source": [
    "#### Defining Lists"
   ]
  },
  {
   "cell_type": "markdown",
   "metadata": {
    "colab_type": "text",
    "id": "IZhyfR8vdnVw"
   },
   "source": [
    "Define a list called `names` with the following elements:\n",
    "<ul>\n",
    "    <li>Krisalyn</li>\n",
    "    <li>Chloe</li>\n",
    "    <li>Nisha</li>\n",
    "    <li>Matthew</li>\n",
    "    <li>Stefanie</li>\n",
    "    <li>Sunny</li>\n",
    "    <li>Arvind</li>\n",
    "    <li>Henry</li>\n",
    "    <li>Ravi</li>\n",
    "</ul>\n",
    "\n",
    "Once you have defined the list, `names`, use the `print()` function to report the contents to the terminal."
   ]
  },
  {
   "cell_type": "code",
   "execution_count": 80,
   "metadata": {
    "ExecuteTime": {
     "end_time": "2020-11-21T22:15:10.795121Z",
     "start_time": "2020-11-21T22:15:10.791609Z"
    },
    "colab": {},
    "colab_type": "code",
    "id": "7e6tIjx7dnVy"
   },
   "outputs": [
    {
     "data": {
      "text/plain": [
       "['Krisalyn',\n",
       " 'Chloe',\n",
       " 'Nisha',\n",
       " 'Matthew',\n",
       " 'Stefanie',\n",
       " 'Sunny',\n",
       " 'Arvind',\n",
       " 'Henry',\n",
       " 'Ravi']"
      ]
     },
     "execution_count": 80,
     "metadata": {},
     "output_type": "execute_result"
    }
   ],
   "source": [
    "# A:\n",
    "\n",
    "names = ['Krisalyn','Chloe','Nisha','Matthew','Stefanie','Sunny','Arvind','Henry','Ravi']\n",
    "\n",
    "names"
   ]
  },
  {
   "cell_type": "code",
   "execution_count": 81,
   "metadata": {},
   "outputs": [
    {
     "data": {
      "text/plain": [
       "list"
      ]
     },
     "execution_count": 81,
     "metadata": {},
     "output_type": "execute_result"
    }
   ],
   "source": [
    "type(names)"
   ]
  },
  {
   "cell_type": "markdown",
   "metadata": {
    "colab_type": "text",
    "id": "k98HbwWjdnV2"
   },
   "source": [
    "How many elements are in this list? Return the result as an integer value.\n",
    "<details>\n",
    "    <summary>Click for hint</summary>\n",
    "    Use the <a href=\"https://docs.python.org/3/library/functions.html#len\"><code>len</code></a> command!\n",
    "</details>"
   ]
  },
  {
   "cell_type": "code",
   "execution_count": 82,
   "metadata": {
    "ExecuteTime": {
     "end_time": "2020-11-21T22:15:10.900754Z",
     "start_time": "2020-11-21T22:15:10.897795Z"
    },
    "colab": {},
    "colab_type": "code",
    "id": "UyiJAkZvdnV3"
   },
   "outputs": [
    {
     "data": {
      "text/plain": [
       "9"
      ]
     },
     "execution_count": 82,
     "metadata": {},
     "output_type": "execute_result"
    }
   ],
   "source": [
    "# A:\n",
    "len(names)\n"
   ]
  },
  {
   "cell_type": "markdown",
   "metadata": {
    "colab_type": "text",
    "id": "9yojHYW2dnV6"
   },
   "source": [
    "#### List Slicing"
   ]
  },
  {
   "cell_type": "markdown",
   "metadata": {
    "colab_type": "text",
    "id": "4jyA4xk4dnV6"
   },
   "source": [
    "Return the first element in the `names` list, `'Krisalyn'`"
   ]
  },
  {
   "cell_type": "code",
   "execution_count": 83,
   "metadata": {
    "ExecuteTime": {
     "end_time": "2020-11-21T22:15:10.905616Z",
     "start_time": "2020-11-21T22:15:10.903068Z"
    },
    "colab": {},
    "colab_type": "code",
    "id": "QSk-Ix4ZdnV7"
   },
   "outputs": [
    {
     "data": {
      "text/plain": [
       "'Krisalyn'"
      ]
     },
     "execution_count": 83,
     "metadata": {},
     "output_type": "execute_result"
    }
   ],
   "source": [
    "# A:\n",
    "names[0]\n",
    "\n"
   ]
  },
  {
   "cell_type": "markdown",
   "metadata": {
    "colab_type": "text",
    "id": "jqmmfnyYdnV-"
   },
   "source": [
    "Return the second element in the `names` list, `'Chloe'`"
   ]
  },
  {
   "cell_type": "code",
   "execution_count": 84,
   "metadata": {
    "ExecuteTime": {
     "end_time": "2020-11-21T22:15:10.909941Z",
     "start_time": "2020-11-21T22:15:10.907568Z"
    },
    "colab": {},
    "colab_type": "code",
    "id": "107o8Fk2dnV-"
   },
   "outputs": [
    {
     "data": {
      "text/plain": [
       "'Chloe'"
      ]
     },
     "execution_count": 84,
     "metadata": {},
     "output_type": "execute_result"
    }
   ],
   "source": [
    "# A:\n",
    "names[1]\n",
    "\n"
   ]
  },
  {
   "cell_type": "markdown",
   "metadata": {
    "colab_type": "text",
    "id": "0ZrScywXdnWB"
   },
   "source": [
    "Use [negative indexing](http://knowledgehills.com/python/negative-indexing-slicing-stepping-comparing-lists.htm) to return the _last_ element in the list `names`, `'Ravi'`."
   ]
  },
  {
   "cell_type": "code",
   "execution_count": 85,
   "metadata": {
    "ExecuteTime": {
     "end_time": "2020-11-21T22:15:10.914112Z",
     "start_time": "2020-11-21T22:15:10.911768Z"
    },
    "colab": {},
    "colab_type": "code",
    "id": "Zc9amB2fdnWB"
   },
   "outputs": [
    {
     "data": {
      "text/plain": [
       "'Ravi'"
      ]
     },
     "execution_count": 85,
     "metadata": {},
     "output_type": "execute_result"
    }
   ],
   "source": [
    "# A:\n",
    "names[-1]\n",
    "\n"
   ]
  },
  {
   "cell_type": "markdown",
   "metadata": {
    "colab_type": "text",
    "id": "hKnbILsqdnWE"
   },
   "source": [
    "Use [negative indexing](http://knowledgehills.com/python/negative-indexing-slicing-stepping-comparing-lists.htm) to return the _second to last_ element in the list `names`, `'Henry'`."
   ]
  },
  {
   "cell_type": "code",
   "execution_count": 86,
   "metadata": {
    "ExecuteTime": {
     "end_time": "2020-11-21T22:15:10.918245Z",
     "start_time": "2020-11-21T22:15:10.915971Z"
    },
    "colab": {},
    "colab_type": "code",
    "id": "DQjpuYyGdnWF"
   },
   "outputs": [
    {
     "data": {
      "text/plain": [
       "'Henry'"
      ]
     },
     "execution_count": 86,
     "metadata": {},
     "output_type": "execute_result"
    }
   ],
   "source": [
    "# A:\n",
    "names[-2]\n"
   ]
  },
  {
   "cell_type": "markdown",
   "metadata": {
    "colab_type": "text",
    "id": "2oMhmcabdnWK"
   },
   "source": [
    "Use [negative indexing](http://knowledgehills.com/python/negative-indexing-slicing-stepping-comparing-lists.htm) to return the _last two_ elements in the list `names`, `['Henry', 'Ravi']`.\n",
    "\n",
    "<ul>\n",
    "    <li>Are there multiple ways to achieve this output?</li>\n",
    "    <li>Try to come up with as many ways to achieve that result. Wrap the output of each scenario with a <code>print()</code> statement to demonstrate the different ways you can return the same output.</li>\n",
    "</ul>"
   ]
  },
  {
   "cell_type": "code",
   "execution_count": 87,
   "metadata": {
    "ExecuteTime": {
     "end_time": "2020-11-21T22:15:10.921775Z",
     "start_time": "2020-11-21T22:15:10.919703Z"
    },
    "colab": {},
    "colab_type": "code",
    "id": "1PQ_Uay5dnWL"
   },
   "outputs": [
    {
     "data": {
      "text/plain": [
       "['Henry', 'Ravi']"
      ]
     },
     "execution_count": 87,
     "metadata": {},
     "output_type": "execute_result"
    }
   ],
   "source": [
    "# A:\n",
    "names[-2::1]\n",
    "\n"
   ]
  },
  {
   "cell_type": "markdown",
   "metadata": {
    "colab_type": "text",
    "id": "6Pa_3TlWdnWP"
   },
   "source": [
    "Return the first two names in the `names` list, `['Krisalyn', 'Chloe']`. Remember the `[start:stop:step]` structure. \n",
    "<ul>\n",
    "    <li>Can any of the arguments (numbers) be omitted? If so, which ones?</li>\n",
    "    <li>Can you use different numbers or negative indexing to achieve the same result?</li>\n",
    "    <li>Can any extra colons be included? If so, which ones?</li>\n",
    "    <li>Wrap the output of each of the above scenarios with a <code>print()</code> statement to demonstrate the different ways you can return the same output.</li>\n",
    "<ul>"
   ]
  },
  {
   "cell_type": "code",
   "execution_count": 88,
   "metadata": {
    "ExecuteTime": {
     "end_time": "2020-11-21T22:15:10.925888Z",
     "start_time": "2020-11-21T22:15:10.923556Z"
    },
    "colab": {},
    "colab_type": "code",
    "id": "c2-c3C7OdnWQ"
   },
   "outputs": [
    {
     "name": "stdout",
     "output_type": "stream",
     "text": [
      "['Krisalyn', 'Chloe']\n"
     ]
    }
   ],
   "source": [
    "# A:\n",
    "print(names[-9:-7])\n"
   ]
  },
  {
   "cell_type": "markdown",
   "metadata": {
    "colab_type": "text",
    "id": "Km86zxIXdnWT"
   },
   "source": [
    "Return the following elements from the `names` list. \n",
    "```python\n",
    "['Krisalyn', 'Nisha', 'Stefanie', 'Arvind', 'Ravi']\n",
    "```\n",
    "\n",
    "For your reference, here is the original list, `names`:\n",
    "```python\n",
    "['Krisalyn', 'Chloe', 'Nisha', 'Matthew', 'Stefanie', \n",
    "'Sunny', 'Arvind', 'Henry', 'Ravi']\n",
    "```\n",
    "\n",
    "In contrast to the previous exercises, attempt to use as few extraneous numbers as possible in your final solution. "
   ]
  },
  {
   "cell_type": "code",
   "execution_count": 89,
   "metadata": {
    "ExecuteTime": {
     "end_time": "2021-02-07T06:57:53.143082Z",
     "start_time": "2021-02-07T06:57:53.140708Z"
    },
    "colab": {},
    "colab_type": "code",
    "id": "lpry2dANdnWU"
   },
   "outputs": [],
   "source": [
    "# A:\n",
    "\n",
    "\n"
   ]
  },
  {
   "cell_type": "markdown",
   "metadata": {
    "colab_type": "text",
    "id": "99twO8FQdnWW"
   },
   "source": [
    "Return the following elements from the `names` list. Note that the desired result is the reverse of the original list. That is to say, the last element is now the first element, and vice-versa.\n",
    "```python\n",
    "['Ravi', 'Henry', 'Arvind', 'Sunny', 'Stefanie', \n",
    " 'Matthew', 'Nisha','Chloe', 'Krisalyn']\n",
    "```\n",
    "\n",
    "For your reference, here is the original list, `names`:\n",
    "```python\n",
    "['Krisalyn', 'Chloe', 'Nisha', 'Matthew', 'Stefanie', \n",
    "'Sunny', 'Arvind', 'Henry', 'Ravi']\n",
    "```"
   ]
  },
  {
   "cell_type": "code",
   "execution_count": 90,
   "metadata": {
    "ExecuteTime": {
     "end_time": "2021-02-07T07:01:24.326909Z",
     "start_time": "2021-02-07T07:01:24.324200Z"
    },
    "colab": {},
    "colab_type": "code",
    "id": "Vx4UkACldnWY"
   },
   "outputs": [
    {
     "data": {
      "text/plain": [
       "['Krisalyn', 'Nisha', 'Stefanie', 'Arvind', 'Ravi']"
      ]
     },
     "execution_count": 90,
     "metadata": {},
     "output_type": "execute_result"
    }
   ],
   "source": [
    "# A:\n",
    "names[::2]\n"
   ]
  },
  {
   "cell_type": "markdown",
   "metadata": {
    "colab_type": "text",
    "id": "VGfxVE61dnWa"
   },
   "source": [
    "Return the following elements from the `names` list. \n",
    "```python\n",
    "['Chloe', 'Stefanie', 'Henry']\n",
    "```\n",
    "\n",
    "For your reference, here is the original list, `names`:\n",
    "```python\n",
    "['Krisalyn', 'Chloe', 'Nisha', 'Matthew', 'Stefanie', \n",
    "'Sunny', 'Arvind', 'Henry', 'Ravi']\n",
    "```"
   ]
  },
  {
   "cell_type": "code",
   "execution_count": 91,
   "metadata": {
    "ExecuteTime": {
     "end_time": "2021-02-07T06:59:48.722191Z",
     "start_time": "2021-02-07T06:59:48.719558Z"
    },
    "colab": {},
    "colab_type": "code",
    "id": "Qpd1UOJYdnWb"
   },
   "outputs": [
    {
     "data": {
      "text/plain": [
       "['Chloe', 'Stefanie', 'Henry']"
      ]
     },
     "execution_count": 91,
     "metadata": {},
     "output_type": "execute_result"
    }
   ],
   "source": [
    "# A:\n",
    "\n",
    "names[1::3]"
   ]
  },
  {
   "cell_type": "markdown",
   "metadata": {
    "ExecuteTime": {
     "end_time": "2020-11-21T22:09:42.718401Z",
     "start_time": "2020-11-21T22:09:42.713607Z"
    }
   },
   "source": [
    "- If your name is in the list, add your name to the list using the appropriate method.\n",
    "- If your is in the list, instead add a classmate whose name is not by using the appropriate method."
   ]
  },
  {
   "cell_type": "code",
   "execution_count": 102,
   "metadata": {
    "ExecuteTime": {
     "end_time": "2020-11-21T22:15:10.940824Z",
     "start_time": "2020-11-21T22:15:10.938389Z"
    }
   },
   "outputs": [],
   "source": [
    "# A\n",
    "names.append('Sagar')"
   ]
  },
  {
   "cell_type": "markdown",
   "metadata": {
    "ExecuteTime": {
     "end_time": "2020-11-21T22:11:06.817694Z",
     "start_time": "2020-11-21T22:11:06.813672Z"
    }
   },
   "source": [
    "Print out the names list to check if your name now appears."
   ]
  },
  {
   "cell_type": "code",
   "execution_count": 98,
   "metadata": {},
   "outputs": [
    {
     "data": {
      "text/plain": [
       "'Ravi'"
      ]
     },
     "execution_count": 98,
     "metadata": {},
     "output_type": "execute_result"
    }
   ],
   "source": [
    "names.pop(-1)"
   ]
  },
  {
   "cell_type": "code",
   "execution_count": 103,
   "metadata": {},
   "outputs": [
    {
     "data": {
      "text/plain": [
       "['Krisalyn',\n",
       " 'Chloe',\n",
       " 'Nisha',\n",
       " 'Matthew',\n",
       " 'Stefanie',\n",
       " 'Sunny',\n",
       " 'Arvind',\n",
       " 'Henry',\n",
       " 'Sagar']"
      ]
     },
     "execution_count": 103,
     "metadata": {},
     "output_type": "execute_result"
    }
   ],
   "source": [
    "names"
   ]
  },
  {
   "cell_type": "code",
   "execution_count": 100,
   "metadata": {},
   "outputs": [
    {
     "data": {
      "text/plain": [
       "['Krisalyn',\n",
       " 'Chloe',\n",
       " 'Nisha',\n",
       " 'Matthew',\n",
       " 'Stefanie',\n",
       " 'Sunny',\n",
       " 'Arvind',\n",
       " 'Henry']"
      ]
     },
     "execution_count": 100,
     "metadata": {},
     "output_type": "execute_result"
    }
   ],
   "source": [
    "names"
   ]
  },
  {
   "cell_type": "code",
   "execution_count": 65,
   "metadata": {
    "ExecuteTime": {
     "end_time": "2020-11-21T22:15:10.944586Z",
     "start_time": "2020-11-21T22:15:10.942430Z"
    }
   },
   "outputs": [],
   "source": [
    "# A:\n",
    "\n"
   ]
  },
  {
   "cell_type": "markdown",
   "metadata": {
    "ExecuteTime": {
     "end_time": "2020-11-21T22:11:31.340843Z",
     "start_time": "2020-11-21T22:11:31.336959Z"
    }
   },
   "source": [
    "Remove your name from the names list using the appropriate list method."
   ]
  },
  {
   "cell_type": "code",
   "execution_count": 57,
   "metadata": {
    "ExecuteTime": {
     "end_time": "2020-11-21T22:15:10.948354Z",
     "start_time": "2020-11-21T22:15:10.946068Z"
    }
   },
   "outputs": [
    {
     "data": {
      "text/plain": [
       "tuple"
      ]
     },
     "execution_count": 57,
     "metadata": {},
     "output_type": "execute_result"
    }
   ],
   "source": [
    "# A:"
   ]
  },
  {
   "cell_type": "markdown",
   "metadata": {
    "ExecuteTime": {
     "end_time": "2020-11-21T22:12:02.924140Z",
     "start_time": "2020-11-21T22:12:02.920061Z"
    }
   },
   "source": [
    "Print out the names list to check if your name is now gone."
   ]
  },
  {
   "cell_type": "code",
   "execution_count": 101,
   "metadata": {
    "ExecuteTime": {
     "end_time": "2020-11-21T22:15:28.362693Z",
     "start_time": "2020-11-21T22:15:28.360151Z"
    }
   },
   "outputs": [
    {
     "data": {
      "text/plain": [
       "['Krisalyn',\n",
       " 'Chloe',\n",
       " 'Nisha',\n",
       " 'Matthew',\n",
       " 'Stefanie',\n",
       " 'Sunny',\n",
       " 'Arvind',\n",
       " 'Henry']"
      ]
     },
     "execution_count": 101,
     "metadata": {},
     "output_type": "execute_result"
    }
   ],
   "source": [
    "# A:\n",
    "names\n"
   ]
  },
  {
   "cell_type": "code",
   "execution_count": null,
   "metadata": {},
   "outputs": [],
   "source": []
  }
 ],
 "metadata": {
  "colab": {
   "name": "lists_exercises.ipynb",
   "provenance": [],
   "version": "0.3.2"
  },
  "kernelspec": {
   "display_name": "Python 3",
   "language": "python",
   "name": "python3"
  },
  "language_info": {
   "codemirror_mode": {
    "name": "ipython",
    "version": 3
   },
   "file_extension": ".py",
   "mimetype": "text/x-python",
   "name": "python",
   "nbconvert_exporter": "python",
   "pygments_lexer": "ipython3",
   "version": "3.8.5"
  }
 },
 "nbformat": 4,
 "nbformat_minor": 4
}
