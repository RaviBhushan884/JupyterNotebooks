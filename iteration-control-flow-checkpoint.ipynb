{
 "cells": [
  {
   "cell_type": "markdown",
   "metadata": {},
   "source": [
    "<img src=\"http://imgur.com/1ZcRyrc.png\" style=\"float: left; margin: 20px; height: 55px\">\n",
    "\n",
    "# Python Iteration and Control Flow\n",
    "---\n",
    "\n",
    "\n",
    "\n",
    "### Learning Objectives\n",
    " \n",
    "- Explore `Python` control flow and conditional programming.  \n",
    "- Apply `if-else` conditional statements.\n",
    "- Explore looping with Python's `for` and `while` loop structures.\n",
    "- Demonstrate error-handling using `try, except` statements."
   ]
  },
  {
   "cell_type": "markdown",
   "metadata": {},
   "source": [
    "## What is control flow?"
   ]
  },
  {
   "cell_type": "markdown",
   "metadata": {},
   "source": [
    "Up until now, our Python \"programs\" have been very boring. Mostly just code snippets. \n",
    "\n",
    "Few pieces of logic have spanned more than one line, and our code was always run top-to-bottom. This is rarely how real code works.\n",
    "\n",
    "* Often we only want a line of code to be run _**sometimes**_. (conditionals)\n",
    "* Often we want a line of code to run _**many times in a row**_. (loops)\n",
    "* Often we want to bottle up complex pieces of code and run it _**many times throughout our code, a little different each time, without having to rewrite the whole thing.**_ (functions)"
   ]
  },
  {
   "cell_type": "markdown",
   "metadata": {},
   "source": [
    "Question: What are the keywords or bits of syntax one would use if setting conditions in Python?\n",
    "\n",
    "Can you name them all?"
   ]
  },
  {
   "cell_type": "code",
   "execution_count": null,
   "metadata": {},
   "outputs": [],
   "source": [
    "# A: "
   ]
  },
  {
   "cell_type": "markdown",
   "metadata": {},
   "source": [
    "<a id='if_else_statements'></a>"
   ]
  },
  {
   "cell_type": "markdown",
   "metadata": {},
   "source": [
    "## Conditional Statements"
   ]
  },
  {
   "cell_type": "markdown",
   "metadata": {},
   "source": [
    "![](imgs/broccoli.jpg)\n",
    "\n",
    "We'll use an `if` statement if we want some code to only run if a certain condition is true.\n",
    "\n",
    "`if/else` example:\n",
    "```python\n",
    "if temperature > 25:\n",
    "    print('Wear shorts.')\n",
    "else:\n",
    "    print('Wear long pants.')\n",
    "print('Get some exercise outside.')\n",
    "```"
   ]
  },
  {
   "cell_type": "code",
   "execution_count": 3,
   "metadata": {},
   "outputs": [
    {
     "name": "stdout",
     "output_type": "stream",
     "text": [
      "Wear long pants.\n",
      "Get some exercise outside\n"
     ]
    }
   ],
   "source": [
    "temperature = 20\n",
    "if temperature >25:\n",
    "    print('Wear shorts.')\n",
    "else:\n",
    "    print('Wear long pants.')\n",
    "print('Get some exercise outside.')\n",
    "    "
   ]
  },
  {
   "cell_type": "markdown",
   "metadata": {},
   "source": [
    "**Conundrum:** You can only have ice cream if you finish your broccoli!"
   ]
  },
  {
   "cell_type": "code",
   "execution_count": 7,
   "metadata": {},
   "outputs": [
    {
     "name": "stdout",
     "output_type": "stream",
     "text": [
      "eat your damn vegetables.\n"
     ]
    }
   ],
   "source": [
    "broccoli_finished = True\n",
    "if broccoli_finished ==False:\n",
    "    print('time for dessert.')\n",
    "else:\n",
    "    print('eat your damn vegetables.')\n"
   ]
  },
  {
   "cell_type": "markdown",
   "metadata": {},
   "source": [
    "## Did you finish your broccoli?"
   ]
  },
  {
   "cell_type": "markdown",
   "metadata": {},
   "source": [
    "<details>\n",
    "    <summary>Click to reveal your reward:</summary>\n",
    "    <img src=\"imgs/ice-cream.jpg\">\n",
    "</details>"
   ]
  },
  {
   "cell_type": "code",
   "execution_count": null,
   "metadata": {},
   "outputs": [],
   "source": []
  },
  {
   "cell_type": "markdown",
   "metadata": {},
   "source": [
    "## Now Together: Health Test"
   ]
  },
  {
   "cell_type": "markdown",
   "metadata": {},
   "source": [
    "Suppose you are processing the results of a health test. The test is scored from 0 to 100, where 100 is perfect health.\n",
    "\n",
    "First part: If the person's health is above 70, we'll print something encouraging. Otherwise, print \"Go to the doctor, now!\"\n",
    "\n",
    "Once that is completed, we'll add an additional condition if the person's health is above 50 that prints something less encouraging but not panic-inducing."
   ]
  },
  {
   "cell_type": "code",
   "execution_count": 10,
   "metadata": {},
   "outputs": [
    {
     "name": "stdout",
     "output_type": "stream",
     "text": [
      "Visit the doc soon.\n"
     ]
    }
   ],
   "source": [
    "# Build together as a group using the chat\n",
    "health =59\n",
    "if health > 70:\n",
    "    print('Way to go!')\n",
    "elif health > 50:\n",
    "    print('Visit the doc soon.')\n",
    "else:\n",
    "    print('Go to the doctor, now!')"
   ]
  },
  {
   "cell_type": "markdown",
   "metadata": {},
   "source": [
    "## Loops"
   ]
  },
  {
   "cell_type": "markdown",
   "metadata": {},
   "source": [
    "There are a few types of loops in Python. Today we'll tackle `for` and `while` loops.\n",
    "\n",
    "Looping options:\n",
    "- **`for loop`**: iterate a set number of times over a data container of collection (e.g. list, string, or using range).\n",
    "- **`while loop`**: repeat loop until some condition is not met.\n",
    "- **`nested loops`**: use one (or more) loop(s) inside another loop \n",
    "\n",
    "All are powerful but all can be costly particularly nested loops!\n",
    "\n",
    "We'll write a `for` loop to loop through some iterable (like a list) and do something for each element."
   ]
  },
  {
   "cell_type": "markdown",
   "metadata": {},
   "source": [
    "`for` loop general syntax: \n",
    "``` python\n",
    "for iterator in iterable_object: \n",
    "    #do something (print, filter, set a condition, etc.)\n",
    "```\n",
    "\n",
    "\n",
    "``` python\n",
    "words = ['ghost', 'window', 'defenestrate']\n",
    "for w in words:\n",
    "    print(f\"The length of the word {w} is {len(w)}\")\n",
    "```"
   ]
  },
  {
   "cell_type": "code",
   "execution_count": null,
   "metadata": {},
   "outputs": [],
   "source": []
  },
  {
   "cell_type": "code",
   "execution_count": 11,
   "metadata": {
    "ExecuteTime": {
     "end_time": "2020-12-15T03:55:56.082137Z",
     "start_time": "2020-12-15T03:55:56.079008Z"
    }
   },
   "outputs": [],
   "source": [
    "names = [\"Alexander\", \"Stefanie\", \"Krisalyn\", \"Pallavi\", \"Chloe\", \"Sunny\", \"Jordan\",\n",
    "         \"Jeanette\", \"Parastoo\", \"Kealan\", \"Sagar\", \"Henry\", \"Matthew\", \"Ovias\"]"
   ]
  },
  {
   "cell_type": "code",
   "execution_count": 17,
   "metadata": {
    "ExecuteTime": {
     "end_time": "2020-12-13T21:28:44.330468Z",
     "start_time": "2020-12-13T21:28:44.325847Z"
    }
   },
   "outputs": [
    {
     "name": "stdout",
     "output_type": "stream",
     "text": [
      "Where is everyone!\n"
     ]
    }
   ],
   "source": [
    "# If one just wanted to print out the names in the list one-by-one, \n",
    "# one could just loop through the list like so...\n",
    "if len(names)>=15:\n",
    "    print('Everyones here!')\n",
    "else:\n",
    "    print('Where is everyone!')\n",
    "          \n"
   ]
  },
  {
   "cell_type": "markdown",
   "metadata": {},
   "source": [
    "But that's not all that interesting, is it?\n",
    "\n",
    "Question: Given what you know about slicing and strings, and what you're learning about for loops and conditionals, what could you write in the cell below to only print the names in the names list that start with the letter `K`?"
   ]
  },
  {
   "cell_type": "code",
   "execution_count": null,
   "metadata": {
    "ExecuteTime": {
     "end_time": "2020-12-13T21:41:21.676707Z",
     "start_time": "2020-12-13T21:41:21.674405Z"
    }
   },
   "outputs": [],
   "source": [
    "# A:"
   ]
  },
  {
   "cell_type": "markdown",
   "metadata": {},
   "source": [
    "Question: How about just the names that end in `n`?"
   ]
  },
  {
   "cell_type": "code",
   "execution_count": null,
   "metadata": {
    "ExecuteTime": {
     "end_time": "2020-12-13T21:41:25.416047Z",
     "start_time": "2020-12-13T21:41:25.413467Z"
    }
   },
   "outputs": [],
   "source": [
    "# A:"
   ]
  },
  {
   "cell_type": "markdown",
   "metadata": {},
   "source": [
    "Question: How about about BOTH of the conditions listed above?"
   ]
  },
  {
   "cell_type": "code",
   "execution_count": null,
   "metadata": {
    "ExecuteTime": {
     "end_time": "2020-12-13T21:41:45.525171Z",
     "start_time": "2020-12-13T21:41:45.522507Z"
    }
   },
   "outputs": [],
   "source": [
    "# A:\n"
   ]
  },
  {
   "cell_type": "markdown",
   "metadata": {},
   "source": [
    "The `pass` statement is a null operation. In other words, nothing happens when it executes.\n",
    "\n",
    "No exciting in and of itself, but what happens if you remove `pass` from the for loop below?"
   ]
  },
  {
   "cell_type": "code",
   "execution_count": null,
   "metadata": {
    "ExecuteTime": {
     "end_time": "2020-12-15T03:56:00.530502Z",
     "start_time": "2020-12-15T03:56:00.528069Z"
    }
   },
   "outputs": [],
   "source": [
    "for name in names:\n",
    "    pass"
   ]
  },
  {
   "cell_type": "markdown",
   "metadata": {},
   "source": [
    "You can also loop through sequences of numbers with the `range()` function.\n",
    "\n",
    "#### Range\n",
    "\n",
    "- `range(start, stop, [step])`\n",
    "- The `start` and `step` parameters are optional (no specified start means the range begins at zero. No specified step means one-by-one-by-one output).\n",
    "- The `stop` parameter is exclusive or not included in the output."
   ]
  },
  {
   "cell_type": "code",
   "execution_count": 18,
   "metadata": {},
   "outputs": [],
   "source": [
    "# Range\n",
    "x = [12,11,12,13,14,15,16,17,18,19,20]\n"
   ]
  },
  {
   "cell_type": "markdown",
   "metadata": {},
   "source": [
    "Task: Write a loop that prints all of the EVEN numbers between 10 and 20 (inclusive).\n",
    "- (There are two good answers to this!)"
   ]
  },
  {
   "cell_type": "code",
   "execution_count": 22,
   "metadata": {},
   "outputs": [
    {
     "ename": "TypeError",
     "evalue": "'list' object is not callable",
     "output_type": "error",
     "traceback": [
      "\u001b[1;31m---------------------------------------------------------------------------\u001b[0m",
      "\u001b[1;31mTypeError\u001b[0m                                 Traceback (most recent call last)",
      "\u001b[1;32m<ipython-input-22-91a4b6f1da19>\u001b[0m in \u001b[0;36m<module>\u001b[1;34m\u001b[0m\n\u001b[0;32m      1\u001b[0m \u001b[1;31m# Answer 1:\u001b[0m\u001b[1;33m\u001b[0m\u001b[1;33m\u001b[0m\u001b[1;33m\u001b[0m\u001b[0m\n\u001b[1;32m----> 2\u001b[1;33m \u001b[1;32mfor\u001b[0m \u001b[0mi\u001b[0m \u001b[1;32min\u001b[0m \u001b[0mx\u001b[0m\u001b[1;33m(\u001b[0m\u001b[1;36m10\u001b[0m\u001b[1;33m,\u001b[0m\u001b[1;36m21\u001b[0m\u001b[1;33m,\u001b[0m\u001b[1;36m2\u001b[0m\u001b[1;33m)\u001b[0m\u001b[1;33m:\u001b[0m\u001b[1;33m\u001b[0m\u001b[1;33m\u001b[0m\u001b[0m\n\u001b[0m\u001b[0;32m      3\u001b[0m     \u001b[0mprint\u001b[0m\u001b[1;33m(\u001b[0m\u001b[0mi\u001b[0m\u001b[1;33m)\u001b[0m\u001b[1;33m\u001b[0m\u001b[1;33m\u001b[0m\u001b[0m\n",
      "\u001b[1;31mTypeError\u001b[0m: 'list' object is not callable"
     ]
    }
   ],
   "source": [
    "# Answer 1:\n"
   ]
  },
  {
   "cell_type": "code",
   "execution_count": null,
   "metadata": {},
   "outputs": [],
   "source": [
    "# Answer 2:\n",
    "\n"
   ]
  },
  {
   "cell_type": "markdown",
   "metadata": {},
   "source": [
    "### Let's loop through a dictionary instead of a list now. \n",
    "- How about the `favorite_spots` dictionary from yesterday?"
   ]
  },
  {
   "cell_type": "code",
   "execution_count": 24,
   "metadata": {
    "ExecuteTime": {
     "end_time": "2020-12-13T22:14:04.655396Z",
     "start_time": "2020-12-13T22:14:04.652282Z"
    }
   },
   "outputs": [],
   "source": [
    "favorite_spots = {\"Guzman Y Gomez\":\"567 Collins St Melbourne\", \"iv coffee\":\n",
    "                  \"117 Queen Street Berry, New South Wales 2535, AU\", \"Starbucks\": \n",
    "                  \"370 Heaths Rd, Hoppers Crossing VIC 3029\", \"Roasting Warehouse (coffee)\":\n",
    "                  \"19-21 Leveson Street, North Melbourne VIC\", \"Dicks Hotel\": \n",
    "                  \"89 Beattie St, Balmain NSW 2041\"}"
   ]
  },
  {
   "cell_type": "code",
   "execution_count": 27,
   "metadata": {},
   "outputs": [
    {
     "name": "stdout",
     "output_type": "stream",
     "text": [
      "117 Queen Street Berry, New South Wales 2535, AU\n",
      "19-21 Leveson Street, North Melbourne VIC\n"
     ]
    }
   ],
   "source": [
    "# Output just the values for each key:value pair in the favorite_spots dictionary\n",
    "for spot in favorite_spots.values():\n",
    "    if spot[0]=='1':\n",
    "        print(spot)\n"
   ]
  },
  {
   "cell_type": "code",
   "execution_count": null,
   "metadata": {},
   "outputs": [],
   "source": [
    "# Add a condition where the address begins with \"1\"\n",
    "\n",
    "for n in favorite_spots.values"
   ]
  },
  {
   "cell_type": "code",
   "execution_count": 30,
   "metadata": {},
   "outputs": [
    {
     "name": "stdout",
     "output_type": "stream",
     "text": [
      "117 Queen Street Berry, New South Wales 2535, AU\n"
     ]
    }
   ],
   "source": [
    "# Now add a condition of your own choosing. \n",
    "for spot in favorite_spots.values():\n",
    "    if spot[0:3]=='117':\n",
    "        print(spot)\n"
   ]
  },
  {
   "cell_type": "code",
   "execution_count": 41,
   "metadata": {},
   "outputs": [
    {
     "name": "stdout",
     "output_type": "stream",
     "text": [
      "567 Collins St Melbourne\n",
      "19-21 Leveson Street, North Melbourne VIC\n"
     ]
    }
   ],
   "source": [
    "for vaal in favorite_spots.values():\n",
    "    if 'Melbourne' in vaal:\n",
    "        print(vaal)"
   ]
  },
  {
   "cell_type": "code",
   "execution_count": null,
   "metadata": {},
   "outputs": [],
   "source": []
  },
  {
   "cell_type": "code",
   "execution_count": null,
   "metadata": {},
   "outputs": [],
   "source": []
  },
  {
   "cell_type": "markdown",
   "metadata": {},
   "source": [
    "### While loops\n",
    "\n",
    "- A `while loop` runs until a condition is _not_ met. \n",
    "- Generally used when you don’t know how many times you need to iterate.\n",
    "- The advantage of a while loop is that it will repeat as often as necessary to accomplish a goal.\n",
    "- A disadvantage is if the code block is structured poorly, an infinite loop can occur.\n",
    "\n",
    "\n",
    "`while` loop general syntax: \n",
    "``` python\n",
    "while condition is True:\n",
    "    #do something (that hopefully has a break at some point)\n",
    "```"
   ]
  },
  {
   "cell_type": "code",
   "execution_count": 42,
   "metadata": {
    "ExecuteTime": {
     "end_time": "2020-12-15T03:48:39.988811Z",
     "start_time": "2020-12-15T03:48:39.984091Z"
    }
   },
   "outputs": [
    {
     "name": "stdout",
     "output_type": "stream",
     "text": [
      "1\n",
      "2\n",
      "3\n",
      "4\n",
      "5\n",
      "6\n",
      "7\n",
      "8\n",
      "9\n",
      "10\n"
     ]
    }
   ],
   "source": [
    "# Use of a counter with a while loop...\n",
    "a = 0  # Often initialized to start at zero\n",
    "while a < 10:\n",
    "    a += 1  # Equivalent of a = a + 1\n",
    "    print(a)"
   ]
  },
  {
   "cell_type": "markdown",
   "metadata": {},
   "source": [
    "What happens if I don't increment \"a\"?\n",
    "\n",
    "Anyone recall from yesterday?"
   ]
  },
  {
   "cell_type": "code",
   "execution_count": null,
   "metadata": {
    "ExecuteTime": {
     "end_time": "2020-12-15T04:03:14.885037Z",
     "start_time": "2020-12-15T04:03:14.882900Z"
    }
   },
   "outputs": [],
   "source": [
    "# a = 0\n",
    "# while a < 10:\n",
    "#      print(a)"
   ]
  },
  {
   "cell_type": "markdown",
   "metadata": {},
   "source": [
    "With the `break` statement we can stop the loop even if the while condition is true:\n",
    "\n",
    "(Question: What happens if below we remove break and move the `i +=1` line inside the if `i == 8` condition?)"
   ]
  },
  {
   "cell_type": "code",
   "execution_count": 43,
   "metadata": {
    "ExecuteTime": {
     "end_time": "2020-12-15T03:51:50.415634Z",
     "start_time": "2020-12-15T03:51:50.410643Z"
    }
   },
   "outputs": [
    {
     "name": "stdout",
     "output_type": "stream",
     "text": [
      "1\n",
      "2\n",
      "3\n",
      "4\n",
      "5\n",
      "6\n",
      "7\n",
      "8\n"
     ]
    }
   ],
   "source": [
    "# Here's a different example\n",
    "i = 1\n",
    "while i < 12:\n",
    "    print(i)\n",
    "    if i == 8:\n",
    "        break\n",
    "    i += 1"
   ]
  },
  {
   "cell_type": "markdown",
   "metadata": {},
   "source": [
    "With the `continue` statement we can stop the current loop/iteration, and `continue` with the next:\n",
    "\n",
    "(What happens if we move the `i +=1` line inside the `if i == 3` condition)"
   ]
  },
  {
   "cell_type": "code",
   "execution_count": 44,
   "metadata": {
    "ExecuteTime": {
     "end_time": "2020-12-15T03:53:11.876697Z",
     "start_time": "2020-12-15T03:53:11.871315Z"
    }
   },
   "outputs": [
    {
     "name": "stdout",
     "output_type": "stream",
     "text": [
      "2\n",
      "4\n",
      "5\n",
      "6\n"
     ]
    }
   ],
   "source": [
    "i = 1\n",
    "while i < 6:\n",
    "    i += 1 \n",
    "    if i == 3:\n",
    "        continue\n",
    "    print(i)"
   ]
  },
  {
   "cell_type": "code",
   "execution_count": null,
   "metadata": {},
   "outputs": [],
   "source": []
  },
  {
   "cell_type": "code",
   "execution_count": null,
   "metadata": {},
   "outputs": [],
   "source": []
  },
  {
   "cell_type": "code",
   "execution_count": null,
   "metadata": {},
   "outputs": [],
   "source": []
  },
  {
   "cell_type": "code",
   "execution_count": null,
   "metadata": {},
   "outputs": [],
   "source": [
    "# Another while loop example:\n",
    "\n",
    "instructor = \"Nayan\"\n",
    "while instructor:\n",
    "    #complete"
   ]
  },
  {
   "cell_type": "code",
   "execution_count": null,
   "metadata": {},
   "outputs": [],
   "source": [
    "# Fun with a while loop and input()\n",
    "\n",
    "reply = None\n",
    "while reply != 'stop':\n",
    "    # complete"
   ]
  },
  {
   "cell_type": "markdown",
   "metadata": {},
   "source": [
    "Question: What do you expect the output to be in the cell below?\n",
    "\n",
    "(Eventually, you'll read code just like reading a book. You won't always have to run cells to know what's coming.)"
   ]
  },
  {
   "cell_type": "code",
   "execution_count": null,
   "metadata": {},
   "outputs": [],
   "source": [
    "# glass = 0\n",
    "# glass_capacity = 12\n",
    "\n",
    "# while glass < glass_capacity:\n",
    "#     glass += 1\n",
    "#     print(glass)"
   ]
  },
  {
   "cell_type": "markdown",
   "metadata": {},
   "source": [
    "## Error Handling\n",
    "Sometimes, you might actually expect for your program to fail! We can account for this using `try` and `except` clauses.\n",
    "\n",
    "1. `try` - runs first - if a problem occurs then it jumps to the except block\n",
    "2. `except` - runs if an exception occurs in the try block. One may have multiple except blocks.\n",
    "3. `finally` - comes at the end. This code runs regardless of what happens earlier in the code.\n",
    "\n",
    "[Python Documentation on Built-in Exceptions](https://docs.python.org/3/library/exceptions.html)\n",
    "\n",
    "[Article on Python Exception Hierarchy](https://airbrake.io/blog/python-exception-handling/class-hierarchy#:~:text=The%20Python%20exception%20class%20hierarchy%20consists%20of%20a%20few%20dozen,when%20something%20unexpected%20goes%20wrong.)"
   ]
  },
  {
   "cell_type": "code",
   "execution_count": 45,
   "metadata": {},
   "outputs": [
    {
     "ename": "ZeroDivisionError",
     "evalue": "division by zero",
     "output_type": "error",
     "traceback": [
      "\u001b[1;31m---------------------------------------------------------------------------\u001b[0m",
      "\u001b[1;31mZeroDivisionError\u001b[0m                         Traceback (most recent call last)",
      "\u001b[1;32m<ipython-input-45-061b93d17c50>\u001b[0m in \u001b[0;36m<module>\u001b[1;34m\u001b[0m\n\u001b[0;32m      1\u001b[0m \u001b[1;31m# ZeroDivisionError\u001b[0m\u001b[1;33m\u001b[0m\u001b[1;33m\u001b[0m\u001b[1;33m\u001b[0m\u001b[0m\n\u001b[0;32m      2\u001b[0m \u001b[1;33m\u001b[0m\u001b[0m\n\u001b[1;32m----> 3\u001b[1;33m \u001b[1;36m5\u001b[0m\u001b[1;33m/\u001b[0m\u001b[1;36m0\u001b[0m\u001b[1;33m\u001b[0m\u001b[1;33m\u001b[0m\u001b[0m\n\u001b[0m",
      "\u001b[1;31mZeroDivisionError\u001b[0m: division by zero"
     ]
    }
   ],
   "source": [
    "# ZeroDivisionError\n",
    "\n",
    "5/0"
   ]
  },
  {
   "cell_type": "code",
   "execution_count": 46,
   "metadata": {
    "scrolled": true
   },
   "outputs": [
    {
     "name": "stdout",
     "output_type": "stream",
     "text": [
      "Here I go, dividing by zero...\n",
      "Division by Zero is not cool! It raises an exception!\n"
     ]
    }
   ],
   "source": [
    "try:\n",
    "    print(\"Here I go, dividing by zero...\")\n",
    "    5 / 0\n",
    "except(ZeroDivisionError):\n",
    "    print('Division by Zero is not cool! It raises an exception!')\n",
    "    \n",
    "#Can add \"finally\" which runs regardless of what happens above.\n",
    "#finally:\n",
    "#    print(\"But execution of the program continues on...\")"
   ]
  },
  {
   "cell_type": "code",
   "execution_count": null,
   "metadata": {},
   "outputs": [],
   "source": [
    "# Create a new list with the converted numbers. If something cannot be converted, \n",
    "# skip it and append nothing to the new list. \n",
    "corrupted = ['!1', '23.1', '23.4.5', '??12', '.12', '12-12', '-11.1', '0-1', '*12.1', '1000']\n",
    "\n",
    "new_list = []\n",
    "for i in corrupted:\n",
    "    # complete"
   ]
  },
  {
   "cell_type": "code",
   "execution_count": null,
   "metadata": {},
   "outputs": [],
   "source": [
    "# Use try/except inside a function (which you'll see tomorrow morning!)\n",
    "\n",
    "def cubed(x):\n",
    "    try:\n",
    "        return x**3\n",
    "    # complete"
   ]
  },
  {
   "cell_type": "markdown",
   "metadata": {},
   "source": [
    "## What did we do today?"
   ]
  },
  {
   "cell_type": "markdown",
   "metadata": {},
   "source": [
    "- Learned how to _control the flow_ of our program.\n",
    "- `if`/`elif`/`else` conditional statements.\n",
    "- `for` and `while` loops.\n",
    "- Error handling with `try`/`except`."
   ]
  }
 ],
 "metadata": {
  "kernelspec": {
   "display_name": "Python 3",
   "language": "python",
   "name": "python3"
  },
  "language_info": {
   "codemirror_mode": {
    "name": "ipython",
    "version": 3
   },
   "file_extension": ".py",
   "mimetype": "text/x-python",
   "name": "python",
   "nbconvert_exporter": "python",
   "pygments_lexer": "ipython3",
   "version": "3.8.5"
  }
 },
 "nbformat": 4,
 "nbformat_minor": 4
}
